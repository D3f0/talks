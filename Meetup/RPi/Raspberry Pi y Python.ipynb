{
 "cells": [
  {
   "cell_type": "markdown",
   "metadata": {
    "slideshow": {
     "slide_type": "slide"
    }
   },
   "source": [
    "# Aprovechando una Rasbperry Pi con Python\n",
    "\n",
    "\n",
    "![RPi B+](images/pie.jpg)\n",
    "\n"
   ]
  },
  {
   "cell_type": "markdown",
   "metadata": {
    "slideshow": {
     "slide_type": "slide"
    }
   },
   "source": [
    "# ¿Qué es Raspberry?\n",
    "\n",
    "![Survey](images/survey.jpg)\n",
    "\n",
    "Fuente: Encuesta en LinuxGizmos sobre [popularidad de placas](http://linuxgizmos.com/raspberry-pi-stays-sky-high-in-2015-hacker-sbc-survey/)"
   ]
  },
  {
   "cell_type": "code",
   "execution_count": null,
   "metadata": {
    "collapsed": true
   },
   "outputs": [],
   "source": []
  },
  {
   "cell_type": "markdown",
   "metadata": {
    "slideshow": {
     "slide_type": "slide"
    }
   },
   "source": [
    "# Raspberry Pi Conceptos\n",
    "\n",
    "* CPU ARM Cortex A7 o ARMv11\n",
    "* GPIO\n",
    "* HDMI\n",
    "* Sondio\n",
    "* 1GB RAM\n",
    "\n"
   ]
  },
  {
   "cell_type": "markdown",
   "metadata": {
    "slideshow": {
     "slide_type": "slide"
    }
   },
   "source": [
    "# Conesjos\n",
    "\n",
    "## IP estática \n",
    "\n"
   ]
  }
 ],
 "metadata": {
  "celltoolbar": "Slideshow",
  "kernelspec": {
   "display_name": "Python 2",
   "language": "python",
   "name": "python2"
  },
  "language_info": {
   "codemirror_mode": {
    "name": "ipython",
    "version": 2
   },
   "file_extension": ".py",
   "mimetype": "text/x-python",
   "name": "python",
   "nbconvert_exporter": "python",
   "pygments_lexer": "ipython2",
   "version": "2.7.9"
  }
 },
 "nbformat": 4,
 "nbformat_minor": 0
}
