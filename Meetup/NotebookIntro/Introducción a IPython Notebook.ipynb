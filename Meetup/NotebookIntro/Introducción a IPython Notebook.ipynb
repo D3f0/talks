{
 "cells": [
  {
   "cell_type": "markdown",
   "metadata": {
    "slideshow": {
     "slide_type": "slide"
    }
   },
   "source": [
    "# Introducción a IPython Notebook\n"
   ]
  },
  {
   "cell_type": "markdown",
   "metadata": {
    "slideshow": {
     "slide_type": "slide"
    }
   },
   "source": [
    "<center>\n",
    "<a target=\"_blank\" href=\"http://goo.gl/Fl7vMn\">\n",
    "<img src=\"images/qrcode.png\">\n",
    "</a>\n",
    "O alternativamente (sin estándard, no slide) <a href=\"https://github.com/D3f0/talks/blob/master/Meetup/NotebookIntro/Introducci%C3%B3n%20a%20IPython%20Notebook.ipynb\">en Github</a>\n",
    "</center>"
   ]
  },
  {
   "cell_type": "code",
   "execution_count": 8,
   "metadata": {
    "collapsed": false,
    "slideshow": {
     "slide_type": "skip"
    }
   },
   "outputs": [
    {
     "name": "stdout",
     "output_type": "stream",
     "text": [
      "[master a6784f0] Update Sat Aug  1 00:24:07 ART 2015\n",
      " 1 file changed, 6 insertions(+), 16 deletions(-)\n"
     ]
    },
    {
     "name": "stderr",
     "output_type": "stream",
     "text": [
      "To git@github.com:D3f0/talks.git\n",
      "   cefee8e..a6784f0  master -> master\n"
     ]
    }
   ],
   "source": [
    "%save \"Introducción\\ a\\ IPython\\ Notebook.ipynb\"\n",
    "!git add -u .\n",
    "!git add images/\n",
    "!git commit -m \"Update $(date)\" && git push origin master"
   ]
  }
 ],
 "metadata": {
  "celltoolbar": "Slideshow",
  "kernelspec": {
   "display_name": "Python 3",
   "language": "python",
   "name": "python3"
  },
  "language_info": {
   "codemirror_mode": {
    "name": "ipython",
    "version": 3
   },
   "file_extension": ".py",
   "mimetype": "text/x-python",
   "name": "python",
   "nbconvert_exporter": "python",
   "pygments_lexer": "ipython3",
   "version": "3.4.3"
  }
 },
 "nbformat": 4,
 "nbformat_minor": 0
}
