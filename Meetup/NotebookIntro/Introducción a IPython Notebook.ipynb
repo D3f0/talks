{
 "cells": [
  {
   "cell_type": "markdown",
   "metadata": {
    "slideshow": {
     "slide_type": "slide"
    }
   },
   "source": [
    "# Introducción a IPython Notebook\n"
   ]
  },
  {
   "cell_type": "markdown",
   "metadata": {
    "slideshow": {
     "slide_type": "slide"
    }
   },
   "source": [
    "<center>\n",
    "<a target=\"_blank\" href=\"http://goo.gl/Fl7vMn\">\n",
    "<img src=\"images/qrcode.png\">\n",
    "</a>\n",
    "O alternativamente (sin estándard, no slide) <a href=\"https://github.com/D3f0/talks/blob/master/Meetup/NotebookIntro/Introducci%C3%B3n%20a%20IPython%20Notebook.ipynb\">en Github</a>\n",
    "</center>"
   ]
  },
  {
   "cell_type": "markdown",
   "metadata": {
    "slideshow": {
     "slide_type": "slide"
    }
   },
   "source": [
    "# Cual es la forma más simple de conseguir IPython Notebook\n",
    "\n",
    " * En Ubuntu/Debian\n",
    "     * ``sudo apt-get install python-pip && sudo pip install \"ipython[notebook]\"``\n",
    " * En Windows o Mac\n",
    "     * Descargar Anacona..."
   ]
  },
  {
   "cell_type": "markdown",
   "metadata": {
    "slideshow": {
     "slide_type": "slide"
    }
   },
   "source": [
    "![](images/anaconda.png)"
   ]
  },
  {
   "cell_type": "markdown",
   "metadata": {
    "slideshow": {
     "slide_type": "slide"
    }
   },
   "source": [
    "<center>\n",
    "![](images/launcher.png)\n",
    "</center>"
   ]
  },
  {
   "cell_type": "markdown",
   "metadata": {
    "slideshow": {
     "slide_type": "slide"
    }
   },
   "source": [
    "<img src=\"images/new_nb.png\">"
   ]
  },
  {
   "cell_type": "markdown",
   "metadata": {
    "slideshow": {
     "slide_type": "slide"
    }
   },
   "source": [
    "# Celdas\n",
    "\n",
    " * Markdown\n",
    "     * HTML es parte de Makrdown. HTML, CSS, JavaScript\n",
    " * Fórmulas con LaTeX\n",
    " * Código Python (o R, Julia)\n",
    "     * Pueden utilizar el Sistema de Representación Rico\n",
    " * Celdas Mágicas"
   ]
  },
  {
   "cell_type": "markdown",
   "metadata": {
    "slideshow": {
     "slide_type": "slide"
    }
   },
   "source": [
    "# Formatos de salida\n",
    "\n",
    " * HTML\n",
    "     * Visible en Github o [nbviewer](nbviewer.ipython.org)\n",
    " * Python\n",
    "     * Sólo el código\n",
    " * RST y Markdown\n",
    "     * Formatos populares de texto rico más simple que HTML\n",
    " * PDF\n",
    "     * Utiliza pandoc y latex\n",
    " "
   ]
  },
  {
   "cell_type": "markdown",
   "metadata": {
    "slideshow": {
     "slide_type": "slide"
    }
   },
   "source": [
    "# Formatos de salida (cont.)\n",
    "\n",
    " * PDF\n",
    "     * Utiliza pandoc y latex\n",
    " * Slides\n",
    "     * Ver guía especialzada [en otro notebook](http://nbviewer.ipython.org/format/slides/github/D3f0/talks/blob/master/SciPyLa/Ense%25C3%25B1andoConUnPaperInteractivo.ipynb)\n",
    " "
   ]
  },
  {
   "cell_type": "code",
   "execution_count": 11,
   "metadata": {
    "collapsed": false,
    "slideshow": {
     "slide_type": "skip"
    }
   },
   "outputs": [
    {
     "name": "stdout",
     "output_type": "stream",
     "text": [
      "[master f8b62f8] Update Sat Aug  1 00:35:02 ART 2015\n",
      " 1 file changed, 11 insertions(+), 10 deletions(-)\n"
     ]
    },
    {
     "name": "stderr",
     "output_type": "stream",
     "text": [
      "To git@github.com:D3f0/talks.git\n",
      "   40b888c..f8b62f8  master -> master\n"
     ]
    }
   ],
   "source": [
    "%%bash\n",
    "git add -u \n",
    "git add images/\n",
    "git commit -m \"Update $(date)\" && git push origin master"
   ]
  },
  {
   "cell_type": "code",
   "execution_count": null,
   "metadata": {
    "collapsed": true,
    "slideshow": {
     "slide_type": "skip"
    }
   },
   "outputs": [],
   "source": []
  }
 ],
 "metadata": {
  "celltoolbar": "Slideshow",
  "kernelspec": {
   "display_name": "Python 3",
   "language": "python",
   "name": "python3"
  },
  "language_info": {
   "codemirror_mode": {
    "name": "ipython",
    "version": 3
   },
   "file_extension": ".py",
   "mimetype": "text/x-python",
   "name": "python",
   "nbconvert_exporter": "python",
   "pygments_lexer": "ipython3",
   "version": "3.4.3"
  }
 },
 "nbformat": 4,
 "nbformat_minor": 0
}
