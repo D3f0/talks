{
 "cells": [
  {
   "cell_type": "markdown",
   "metadata": {
    "slideshow": {
     "slide_type": "slide"
    }
   },
   "source": [
    "# Introducción a IPython Notebook\n"
   ]
  },
  {
   "cell_type": "markdown",
   "metadata": {
    "slideshow": {
     "slide_type": "slide"
    }
   },
   "source": [
    "<center>\n",
    "<a target=\"_blank\" href=\"http://goo.gl/Fl7vMn\">\n",
    "<img src=\"images/qrcode.png\">\n",
    "</a>\n",
    "O alternativamente (sin estándard, no slide) <a href=\"https://github.com/D3f0/talks/blob/master/Meetup/NotebookIntro/Introducci%C3%B3n%20a%20IPython%20Notebook.ipynb\">en Github</a>\n",
    "</center>"
   ]
  },
  {
   "cell_type": "code",
   "execution_count": 10,
   "metadata": {
    "collapsed": false,
    "slideshow": {
     "slide_type": "skip"
    }
   },
   "outputs": [
    {
     "name": "stdout",
     "output_type": "stream",
     "text": [
      "[master 40b888c] Update Sat Aug  1 00:31:06 ART 2015\n",
      " 2 files changed, 23 insertions(+), 14 deletions(-)\n",
      " delete mode 100644 windows.mp4\n"
     ]
    },
    {
     "name": "stderr",
     "output_type": "stream",
     "text": [
      "To git@github.com:D3f0/talks.git\n",
      "   26f4f01..40b888c  master -> master\n"
     ]
    }
   ],
   "source": [
    "%%bash\n",
    "git add -u \n",
    "git add images/\n",
    "git commit -m \"Update $(date)\" && git push origin master"
   ]
  },
  {
   "cell_type": "code",
   "execution_count": null,
   "metadata": {
    "collapsed": true
   },
   "outputs": [],
   "source": []
  }
 ],
 "metadata": {
  "celltoolbar": "Slideshow",
  "kernelspec": {
   "display_name": "Python 3",
   "language": "python",
   "name": "python3"
  },
  "language_info": {
   "codemirror_mode": {
    "name": "ipython",
    "version": 3
   },
   "file_extension": ".py",
   "mimetype": "text/x-python",
   "name": "python",
   "nbconvert_exporter": "python",
   "pygments_lexer": "ipython3",
   "version": "3.4.3"
  }
 },
 "nbformat": 4,
 "nbformat_minor": 0
}
