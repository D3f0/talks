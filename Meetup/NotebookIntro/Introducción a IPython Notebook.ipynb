{
 "cells": [
  {
   "cell_type": "markdown",
   "metadata": {
    "slideshow": {
     "slide_type": "slide"
    }
   },
   "source": [
    "# Introducción a IPython Notebook\n"
   ]
  },
  {
   "cell_type": "markdown",
   "metadata": {
    "slideshow": {
     "slide_type": "slide"
    }
   },
   "source": [
    "<center>\n",
    "<a target=\"_blank\" href=\"http://goo.gl/Fl7vMn\">\n",
    "<img src=\"images/qrcode.png\">\n",
    "</a>\n",
    "O alternativamente (sin estándard, no slide) <a href=\"https://github.com/D3f0/talks/blob/master/Meetup/NotebookIntro/Introducci%C3%B3n%20a%20IPython%20Notebook.ipynb\">en Github</a>\n",
    "</center>"
   ]
  },
  {
   "cell_type": "code",
   "execution_count": 9,
   "metadata": {
    "collapsed": false,
    "slideshow": {
     "slide_type": "skip"
    }
   },
   "outputs": [
    {
     "name": "stdout",
     "output_type": "stream",
     "text": [
      "'' was not found in history, as a file, url, nor in the user namespace.\n",
      "[master 26f4f01] Update Sat Aug  1 00:27:31 ART 2015\n",
      " 1 file changed, 14 insertions(+), 19 deletions(-)\n",
      "Counting objects: 5, done.\n",
      "Delta compression using up to 4 threads.\n",
      "Compressing objects: 100% (5/5), done.\n",
      "Writing objects: 100% (5/5), 895 bytes | 0 bytes/s, done.\n",
      "Total 5 (delta 1), reused 0 (delta 0)\n",
      "To git@github.com:D3f0/talks.git\n",
      "   a6784f0..26f4f01  master -> master\n"
     ]
    }
   ],
   "source": [
    "%%bash\n",
    "git add -u \n",
    "git add images/\n",
    "git commit -m \"Update $(date)\" && git push origin master"
   ]
  },
  {
   "cell_type": "code",
   "execution_count": null,
   "metadata": {
    "collapsed": true
   },
   "outputs": [],
   "source": []
  }
 ],
 "metadata": {
  "celltoolbar": "Slideshow",
  "kernelspec": {
   "display_name": "Python 3",
   "language": "python",
   "name": "python3"
  },
  "language_info": {
   "codemirror_mode": {
    "name": "ipython",
    "version": 3
   },
   "file_extension": ".py",
   "mimetype": "text/x-python",
   "name": "python",
   "nbconvert_exporter": "python",
   "pygments_lexer": "ipython3",
   "version": "3.4.3"
  }
 },
 "nbformat": 4,
 "nbformat_minor": 0
}
