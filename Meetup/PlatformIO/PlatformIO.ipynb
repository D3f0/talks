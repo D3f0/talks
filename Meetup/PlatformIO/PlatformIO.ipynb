{
 "cells": [
  {
   "cell_type": "markdown",
   "metadata": {
    "slideshow": {
     "slide_type": "slide"
    }
   },
   "source": [
    "\n",
    "# PlatformIO\n",
    "### Nahuel Defossé\n",
    "### *1er Meetup del Año* 19/03/2016\n",
    "<center>\n",
    "<img src=\"./img/platformio-logo.png\">\n",
    "</center>"
   ]
  },
  {
   "cell_type": "markdown",
   "metadata": {
    "slideshow": {
     "slide_type": "slide"
    }
   },
   "source": [
    "# PlatformIO\n",
    "\n",
    "PlatfromIO es un entorno de desarrollo para controladores embebidos que sirve para:\n",
    " * Usarse con IDE Propia\n",
    " * Usarse desde línea de comandos\n",
    " * Usarse como heramienta de compilación para otras IDEs"
   ]
  },
  {
   "cell_type": "markdown",
   "metadata": {
    "slideshow": {
     "slide_type": "slide"
    }
   },
   "source": [
    "# Autor\n",
    "<center>\n",
    "![Ivan Kravets](img/ivan.jpeg)\n",
    "\n",
    "</center>"
   ]
  },
  {
   "cell_type": "markdown",
   "metadata": {
    "slideshow": {
     "slide_type": "slide"
    }
   },
   "source": [
    "# Plataformas\n",
    "\n",
    "<center>\n",
    "![](img/plataformas.png)\n",
    "</center>\n",
    "\n"
   ]
  },
  {
   "cell_type": "code",
   "execution_count": null,
   "metadata": {
    "collapsed": true
   },
   "outputs": [],
   "source": []
  },
  {
   "cell_type": "markdown",
   "metadata": {
    "collapsed": true,
    "slideshow": {
     "slide_type": "slide"
    }
   },
   "source": [
    "# Características\n",
    " "
   ]
  },
  {
   "cell_type": "code",
   "execution_count": null,
   "metadata": {
    "collapsed": true
   },
   "outputs": [],
   "source": [
    "# Comunidad\n"
   ]
  },
  {
   "cell_type": "code",
   "execution_count": null,
   "metadata": {
    "collapsed": true
   },
   "outputs": [],
   "source": [
    "# "
   ]
  },
  {
   "cell_type": "markdown",
   "metadata": {
    "slideshow": {
     "slide_type": "slide"
    }
   },
   "source": [
    "# DEMO TIME!\n",
    "\n",
    "* Microncontrolador + WiFi\n",
    "* Bajo costo\n",
    "* 10 pines GPIO (SPI, ADC, etc)\n",
    "\n"
   ]
  },
  {
   "cell_type": "code",
   "execution_count": null,
   "metadata": {
    "collapsed": true,
    "slideshow": {
     "slide_type": "skip"
    }
   },
   "outputs": [],
   "source": []
  },
  {
   "cell_type": "code",
   "execution_count": 1,
   "metadata": {
    "collapsed": true,
    "slideshow": {
     "slide_type": "skip"
    }
   },
   "outputs": [],
   "source": [
    "!open ."
   ]
  },
  {
   "cell_type": "code",
   "execution_count": 5,
   "metadata": {
    "collapsed": false,
    "slideshow": {
     "slide_type": "skip"
    }
   },
   "outputs": [
    {
     "name": "stdout",
     "output_type": "stream",
     "text": [
      "On branch master\r\n",
      "Your branch is up-to-date with 'origin/master'.\r\n",
      "Changes to be committed:\r\n",
      "  (use \"git reset HEAD <file>...\" to unstage)\r\n",
      "\r\n",
      "\t\u001b[32mnew file:   reveal.js-3.2.0/CONTRIBUTING.md\u001b[m\r\n",
      "\t\u001b[32mnew file:   reveal.js-3.2.0/Gruntfile.js\u001b[m\r\n",
      "\t\u001b[32mnew file:   reveal.js-3.2.0/LICENSE\u001b[m\r\n",
      "\t\u001b[32mnew file:   reveal.js-3.2.0/README.md\u001b[m\r\n",
      "\t\u001b[32mnew file:   reveal.js-3.2.0/bower.json\u001b[m\r\n",
      "\t\u001b[32mnew file:   reveal.js-3.2.0/css/print/paper.css\u001b[m\r\n",
      "\t\u001b[32mnew file:   reveal.js-3.2.0/css/print/pdf.css\u001b[m\r\n",
      "\t\u001b[32mnew file:   reveal.js-3.2.0/css/reveal.css\u001b[m\r\n",
      "\t\u001b[32mnew file:   reveal.js-3.2.0/css/reveal.scss\u001b[m\r\n",
      "\t\u001b[32mnew file:   reveal.js-3.2.0/css/theme/README.md\u001b[m\r\n",
      "\t\u001b[32mnew file:   reveal.js-3.2.0/css/theme/beige.css\u001b[m\r\n",
      "\t\u001b[32mnew file:   reveal.js-3.2.0/css/theme/black.css\u001b[m\r\n",
      "\t\u001b[32mnew file:   reveal.js-3.2.0/css/theme/blood.css\u001b[m\r\n",
      "\t\u001b[32mnew file:   reveal.js-3.2.0/css/theme/league.css\u001b[m\r\n",
      "\t\u001b[32mnew file:   reveal.js-3.2.0/css/theme/moon.css\u001b[m\r\n",
      "\t\u001b[32mnew file:   reveal.js-3.2.0/css/theme/night.css\u001b[m\r\n",
      "\t\u001b[32mnew file:   reveal.js-3.2.0/css/theme/serif.css\u001b[m\r\n",
      "\t\u001b[32mnew file:   reveal.js-3.2.0/css/theme/simple.css\u001b[m\r\n",
      "\t\u001b[32mnew file:   reveal.js-3.2.0/css/theme/sky.css\u001b[m\r\n",
      "\t\u001b[32mnew file:   reveal.js-3.2.0/css/theme/solarized.css\u001b[m\r\n",
      "\t\u001b[32mnew file:   reveal.js-3.2.0/css/theme/source/beige.scss\u001b[m\r\n",
      "\t\u001b[32mnew file:   reveal.js-3.2.0/css/theme/source/black.scss\u001b[m\r\n",
      "\t\u001b[32mnew file:   reveal.js-3.2.0/css/theme/source/blood.scss\u001b[m\r\n",
      "\t\u001b[32mnew file:   reveal.js-3.2.0/css/theme/source/league.scss\u001b[m\r\n",
      "\t\u001b[32mnew file:   reveal.js-3.2.0/css/theme/source/moon.scss\u001b[m\r\n",
      "\t\u001b[32mnew file:   reveal.js-3.2.0/css/theme/source/night.scss\u001b[m\r\n",
      "\t\u001b[32mnew file:   reveal.js-3.2.0/css/theme/source/serif.scss\u001b[m\r\n",
      "\t\u001b[32mnew file:   reveal.js-3.2.0/css/theme/source/simple.scss\u001b[m\r\n",
      "\t\u001b[32mnew file:   reveal.js-3.2.0/css/theme/source/sky.scss\u001b[m\r\n",
      "\t\u001b[32mnew file:   reveal.js-3.2.0/css/theme/source/solarized.scss\u001b[m\r\n",
      "\t\u001b[32mnew file:   reveal.js-3.2.0/css/theme/source/white.scss\u001b[m\r\n",
      "\t\u001b[32mnew file:   reveal.js-3.2.0/css/theme/template/mixins.scss\u001b[m\r\n",
      "\t\u001b[32mnew file:   reveal.js-3.2.0/css/theme/template/settings.scss\u001b[m\r\n",
      "\t\u001b[32mnew file:   reveal.js-3.2.0/css/theme/template/theme.scss\u001b[m\r\n",
      "\t\u001b[32mnew file:   reveal.js-3.2.0/css/theme/white.css\u001b[m\r\n",
      "\t\u001b[32mnew file:   reveal.js-3.2.0/index.html\u001b[m\r\n",
      "\t\u001b[32mnew file:   reveal.js-3.2.0/js/reveal.js\u001b[m\r\n",
      "\t\u001b[32mnew file:   reveal.js-3.2.0/lib/css/zenburn.css\u001b[m\r\n",
      "\t\u001b[32mnew file:   reveal.js-3.2.0/lib/font/league-gothic/LICENSE\u001b[m\r\n",
      "\t\u001b[32mnew file:   reveal.js-3.2.0/lib/font/league-gothic/league-gothic.css\u001b[m\r\n",
      "\t\u001b[32mnew file:   reveal.js-3.2.0/lib/font/league-gothic/league-gothic.eot\u001b[m\r\n",
      "\t\u001b[32mnew file:   reveal.js-3.2.0/lib/font/league-gothic/league-gothic.ttf\u001b[m\r\n",
      "\t\u001b[32mnew file:   reveal.js-3.2.0/lib/font/league-gothic/league-gothic.woff\u001b[m\r\n",
      "\t\u001b[32mnew file:   reveal.js-3.2.0/lib/font/source-sans-pro/LICENSE\u001b[m\r\n",
      "\t\u001b[32mnew file:   reveal.js-3.2.0/lib/font/source-sans-pro/source-sans-pro-italic.eot\u001b[m\r\n",
      "\t\u001b[32mnew file:   reveal.js-3.2.0/lib/font/source-sans-pro/source-sans-pro-italic.ttf\u001b[m\r\n",
      "\t\u001b[32mnew file:   reveal.js-3.2.0/lib/font/source-sans-pro/source-sans-pro-italic.woff\u001b[m\r\n",
      "\t\u001b[32mnew file:   reveal.js-3.2.0/lib/font/source-sans-pro/source-sans-pro-regular.eot\u001b[m\r\n",
      "\t\u001b[32mnew file:   reveal.js-3.2.0/lib/font/source-sans-pro/source-sans-pro-regular.ttf\u001b[m\r\n",
      "\t\u001b[32mnew file:   reveal.js-3.2.0/lib/font/source-sans-pro/source-sans-pro-regular.woff\u001b[m\r\n",
      "\t\u001b[32mnew file:   reveal.js-3.2.0/lib/font/source-sans-pro/source-sans-pro-semibold.eot\u001b[m\r\n",
      "\t\u001b[32mnew file:   reveal.js-3.2.0/lib/font/source-sans-pro/source-sans-pro-semibold.ttf\u001b[m\r\n",
      "\t\u001b[32mnew file:   reveal.js-3.2.0/lib/font/source-sans-pro/source-sans-pro-semibold.woff\u001b[m\r\n",
      "\t\u001b[32mnew file:   reveal.js-3.2.0/lib/font/source-sans-pro/source-sans-pro-semibolditalic.eot\u001b[m\r\n",
      "\t\u001b[32mnew file:   reveal.js-3.2.0/lib/font/source-sans-pro/source-sans-pro-semibolditalic.ttf\u001b[m\r\n",
      "\t\u001b[32mnew file:   reveal.js-3.2.0/lib/font/source-sans-pro/source-sans-pro-semibolditalic.woff\u001b[m\r\n",
      "\t\u001b[32mnew file:   reveal.js-3.2.0/lib/font/source-sans-pro/source-sans-pro.css\u001b[m\r\n",
      "\t\u001b[32mnew file:   reveal.js-3.2.0/lib/js/classList.js\u001b[m\r\n",
      "\t\u001b[32mnew file:   reveal.js-3.2.0/lib/js/head.min.js\u001b[m\r\n",
      "\t\u001b[32mnew file:   reveal.js-3.2.0/lib/js/html5shiv.js\u001b[m\r\n",
      "\t\u001b[32mnew file:   reveal.js-3.2.0/package.json\u001b[m\r\n",
      "\t\u001b[32mnew file:   reveal.js-3.2.0/plugin/highlight/highlight.js\u001b[m\r\n",
      "\t\u001b[32mnew file:   reveal.js-3.2.0/plugin/markdown/example.html\u001b[m\r\n",
      "\t\u001b[32mnew file:   reveal.js-3.2.0/plugin/markdown/example.md\u001b[m\r\n",
      "\t\u001b[32mnew file:   reveal.js-3.2.0/plugin/markdown/markdown.js\u001b[m\r\n",
      "\t\u001b[32mnew file:   reveal.js-3.2.0/plugin/markdown/marked.js\u001b[m\r\n",
      "\t\u001b[32mnew file:   reveal.js-3.2.0/plugin/math/math.js\u001b[m\r\n",
      "\t\u001b[32mnew file:   reveal.js-3.2.0/plugin/multiplex/client.js\u001b[m\r\n",
      "\t\u001b[32mnew file:   reveal.js-3.2.0/plugin/multiplex/index.js\u001b[m\r\n",
      "\t\u001b[32mnew file:   reveal.js-3.2.0/plugin/multiplex/master.js\u001b[m\r\n",
      "\t\u001b[32mnew file:   reveal.js-3.2.0/plugin/notes-server/client.js\u001b[m\r\n",
      "\t\u001b[32mnew file:   reveal.js-3.2.0/plugin/notes-server/index.js\u001b[m\r\n",
      "\t\u001b[32mnew file:   reveal.js-3.2.0/plugin/notes-server/notes.html\u001b[m\r\n",
      "\t\u001b[32mnew file:   reveal.js-3.2.0/plugin/notes/notes.html\u001b[m\r\n",
      "\t\u001b[32mnew file:   reveal.js-3.2.0/plugin/notes/notes.js\u001b[m\r\n",
      "\t\u001b[32mnew file:   reveal.js-3.2.0/plugin/print-pdf/print-pdf.js\u001b[m\r\n",
      "\t\u001b[32mnew file:   reveal.js-3.2.0/plugin/search/search.js\u001b[m\r\n",
      "\t\u001b[32mnew file:   reveal.js-3.2.0/plugin/zoom-js/zoom.js\u001b[m\r\n",
      "\t\u001b[32mnew file:   reveal.js-3.2.0/test/examples/assets/image1.png\u001b[m\r\n",
      "\t\u001b[32mnew file:   reveal.js-3.2.0/test/examples/assets/image2.png\u001b[m\r\n",
      "\t\u001b[32mnew file:   reveal.js-3.2.0/test/examples/barebones.html\u001b[m\r\n",
      "\t\u001b[32mnew file:   reveal.js-3.2.0/test/examples/embedded-media.html\u001b[m\r\n",
      "\t\u001b[32mnew file:   reveal.js-3.2.0/test/examples/math.html\u001b[m\r\n",
      "\t\u001b[32mnew file:   reveal.js-3.2.0/test/examples/slide-backgrounds.html\u001b[m\r\n",
      "\t\u001b[32mnew file:   reveal.js-3.2.0/test/examples/slide-transitions.html\u001b[m\r\n",
      "\t\u001b[32mnew file:   reveal.js-3.2.0/test/qunit-1.12.0.css\u001b[m\r\n",
      "\t\u001b[32mnew file:   reveal.js-3.2.0/test/qunit-1.12.0.js\u001b[m\r\n",
      "\t\u001b[32mnew file:   reveal.js-3.2.0/test/test-markdown-element-attributes.html\u001b[m\r\n",
      "\t\u001b[32mnew file:   reveal.js-3.2.0/test/test-markdown-element-attributes.js\u001b[m\r\n",
      "\t\u001b[32mnew file:   reveal.js-3.2.0/test/test-markdown-slide-attributes.html\u001b[m\r\n",
      "\t\u001b[32mnew file:   reveal.js-3.2.0/test/test-markdown-slide-attributes.js\u001b[m\r\n",
      "\t\u001b[32mnew file:   reveal.js-3.2.0/test/test-markdown.html\u001b[m\r\n",
      "\t\u001b[32mnew file:   reveal.js-3.2.0/test/test-markdown.js\u001b[m\r\n",
      "\t\u001b[32mnew file:   reveal.js-3.2.0/test/test-pdf.html\u001b[m\r\n",
      "\t\u001b[32mnew file:   reveal.js-3.2.0/test/test-pdf.js\u001b[m\r\n",
      "\t\u001b[32mnew file:   reveal.js-3.2.0/test/test.html\u001b[m\r\n",
      "\t\u001b[32mnew file:   reveal.js-3.2.0/test/test.js\u001b[m\r\n",
      "\r\n",
      "Changes not staged for commit:\r\n",
      "  (use \"git add/rm <file>...\" to update what will be committed)\r\n",
      "  (use \"git checkout -- <file>...\" to discard changes in working directory)\r\n",
      "\r\n",
      "\t\u001b[31mmodified:   ../NotebookIntro/Introducción a IPython Notebook.ipynb\u001b[m\r\n",
      "\t\u001b[31mmodified:   ../NotebookIntro/Introducción a IPython Notebook.slides.html\u001b[m\r\n",
      "\t\u001b[31mdeleted:    ../../SciPyLa/reveal.js/CONTRIBUTING.md\u001b[m\r\n",
      "\t\u001b[31mdeleted:    ../../SciPyLa/reveal.js/Gruntfile.js\u001b[m\r\n",
      "\t\u001b[31mdeleted:    ../../SciPyLa/reveal.js/LICENSE\u001b[m\r\n",
      "\t\u001b[31mdeleted:    ../../SciPyLa/reveal.js/README.md\u001b[m\r\n",
      "\t\u001b[31mdeleted:    ../../SciPyLa/reveal.js/css/print/paper.css\u001b[m\r\n",
      "\t\u001b[31mdeleted:    ../../SciPyLa/reveal.js/css/print/pdf.css\u001b[m\r\n",
      "\t\u001b[31mdeleted:    ../../SciPyLa/reveal.js/css/reveal.css\u001b[m\r\n",
      "\t\u001b[31mdeleted:    ../../SciPyLa/reveal.js/css/reveal.min.css\u001b[m\r\n",
      "\t\u001b[31mdeleted:    ../../SciPyLa/reveal.js/css/theme/README.md\u001b[m\r\n",
      "\t\u001b[31mdeleted:    ../../SciPyLa/reveal.js/css/theme/beige.css\u001b[m\r\n",
      "\t\u001b[31mdeleted:    ../../SciPyLa/reveal.js/css/theme/blood.css\u001b[m\r\n",
      "\t\u001b[31mdeleted:    ../../SciPyLa/reveal.js/css/theme/default.css\u001b[m\r\n",
      "\t\u001b[31mdeleted:    ../../SciPyLa/reveal.js/css/theme/moon.css\u001b[m\r\n",
      "\t\u001b[31mdeleted:    ../../SciPyLa/reveal.js/css/theme/night.css\u001b[m\r\n",
      "\t\u001b[31mdeleted:    ../../SciPyLa/reveal.js/css/theme/serif.css\u001b[m\r\n",
      "\t\u001b[31mdeleted:    ../../SciPyLa/reveal.js/css/theme/simple.css\u001b[m\r\n",
      "\t\u001b[31mdeleted:    ../../SciPyLa/reveal.js/css/theme/sky.css\u001b[m\r\n",
      "\t\u001b[31mdeleted:    ../../SciPyLa/reveal.js/css/theme/solarized.css\u001b[m\r\n",
      "\t\u001b[31mdeleted:    ../../SciPyLa/reveal.js/css/theme/source/beige.scss\u001b[m\r\n",
      "\t\u001b[31mdeleted:    ../../SciPyLa/reveal.js/css/theme/source/blood.scss\u001b[m\r\n",
      "\t\u001b[31mdeleted:    ../../SciPyLa/reveal.js/css/theme/source/default.scss\u001b[m\r\n",
      "\t\u001b[31mdeleted:    ../../SciPyLa/reveal.js/css/theme/source/moon.scss\u001b[m\r\n",
      "\t\u001b[31mdeleted:    ../../SciPyLa/reveal.js/css/theme/source/night.scss\u001b[m\r\n",
      "\t\u001b[31mdeleted:    ../../SciPyLa/reveal.js/css/theme/source/serif.scss\u001b[m\r\n",
      "\t\u001b[31mdeleted:    ../../SciPyLa/reveal.js/css/theme/source/simple.scss\u001b[m\r\n",
      "\t\u001b[31mdeleted:    ../../SciPyLa/reveal.js/css/theme/source/sky.scss\u001b[m\r\n",
      "\t\u001b[31mdeleted:    ../../SciPyLa/reveal.js/css/theme/source/solarized.scss\u001b[m\r\n",
      "\t\u001b[31mdeleted:    ../../SciPyLa/reveal.js/css/theme/template/mixins.scss\u001b[m\r\n",
      "\t\u001b[31mdeleted:    ../../SciPyLa/reveal.js/css/theme/template/settings.scss\u001b[m\r\n",
      "\t\u001b[31mdeleted:    ../../SciPyLa/reveal.js/css/theme/template/theme.scss\u001b[m\r\n",
      "\t\u001b[31mdeleted:    ../../SciPyLa/reveal.js/index.html\u001b[m\r\n",
      "\t\u001b[31mdeleted:    ../../SciPyLa/reveal.js/js/reveal.js\u001b[m\r\n",
      "\t\u001b[31mdeleted:    ../../SciPyLa/reveal.js/js/reveal.min.js\u001b[m\r\n",
      "\t\u001b[31mdeleted:    ../../SciPyLa/reveal.js/lib/css/zenburn.css\u001b[m\r\n",
      "\t\u001b[31mdeleted:    ../../SciPyLa/reveal.js/lib/font/league_gothic-webfont.eot\u001b[m\r\n",
      "\t\u001b[31mdeleted:    ../../SciPyLa/reveal.js/lib/font/league_gothic-webfont.svg\u001b[m\r\n",
      "\t\u001b[31mdeleted:    ../../SciPyLa/reveal.js/lib/font/league_gothic-webfont.ttf\u001b[m\r\n",
      "\t\u001b[31mdeleted:    ../../SciPyLa/reveal.js/lib/font/league_gothic-webfont.woff\u001b[m\r\n",
      "\t\u001b[31mdeleted:    ../../SciPyLa/reveal.js/lib/font/league_gothic_license\u001b[m\r\n",
      "\t\u001b[31mdeleted:    ../../SciPyLa/reveal.js/lib/js/classList.js\u001b[m\r\n",
      "\t\u001b[31mdeleted:    ../../SciPyLa/reveal.js/lib/js/head.min.js\u001b[m\r\n",
      "\t\u001b[31mdeleted:    ../../SciPyLa/reveal.js/lib/js/html5shiv.js\u001b[m\r\n",
      "\t\u001b[31mdeleted:    ../../SciPyLa/reveal.js/package.json\u001b[m\r\n",
      "\t\u001b[31mdeleted:    ../../SciPyLa/reveal.js/plugin/highlight/highlight.js\u001b[m\r\n",
      "\t\u001b[31mdeleted:    ../../SciPyLa/reveal.js/plugin/leap/leap.js\u001b[m\r\n",
      "\t\u001b[31mdeleted:    ../../SciPyLa/reveal.js/plugin/markdown/example.html\u001b[m\r\n",
      "\t\u001b[31mdeleted:    ../../SciPyLa/reveal.js/plugin/markdown/example.md\u001b[m\r\n",
      "\t\u001b[31mdeleted:    ../../SciPyLa/reveal.js/plugin/markdown/markdown.js\u001b[m\r\n",
      "\t\u001b[31mdeleted:    ../../SciPyLa/reveal.js/plugin/markdown/marked.js\u001b[m\r\n",
      "\t\u001b[31mdeleted:    ../../SciPyLa/reveal.js/plugin/math/math.js\u001b[m\r\n",
      "\t\u001b[31mdeleted:    ../../SciPyLa/reveal.js/plugin/multiplex/client.js\u001b[m\r\n",
      "\t\u001b[31mdeleted:    ../../SciPyLa/reveal.js/plugin/multiplex/index.js\u001b[m\r\n",
      "\t\u001b[31mdeleted:    ../../SciPyLa/reveal.js/plugin/multiplex/master.js\u001b[m\r\n",
      "\t\u001b[31mdeleted:    ../../SciPyLa/reveal.js/plugin/notes-server/client.js\u001b[m\r\n",
      "\t\u001b[31mdeleted:    ../../SciPyLa/reveal.js/plugin/notes-server/index.js\u001b[m\r\n",
      "\t\u001b[31mdeleted:    ../../SciPyLa/reveal.js/plugin/notes-server/notes.html\u001b[m\r\n",
      "\t\u001b[31mdeleted:    ../../SciPyLa/reveal.js/plugin/notes/notes.html\u001b[m\r\n",
      "\t\u001b[31mdeleted:    ../../SciPyLa/reveal.js/plugin/notes/notes.js\u001b[m\r\n",
      "\t\u001b[31mdeleted:    ../../SciPyLa/reveal.js/plugin/postmessage/example.html\u001b[m\r\n",
      "\t\u001b[31mdeleted:    ../../SciPyLa/reveal.js/plugin/postmessage/postmessage.js\u001b[m\r\n",
      "\t\u001b[31mdeleted:    ../../SciPyLa/reveal.js/plugin/print-pdf/print-pdf.js\u001b[m\r\n",
      "\t\u001b[31mdeleted:    ../../SciPyLa/reveal.js/plugin/remotes/remotes.js\u001b[m\r\n",
      "\t\u001b[31mdeleted:    ../../SciPyLa/reveal.js/plugin/search/search.js\u001b[m\r\n",
      "\t\u001b[31mdeleted:    ../../SciPyLa/reveal.js/plugin/zoom-js/zoom.js\u001b[m\r\n",
      "\t\u001b[31mdeleted:    ../../SciPyLa/reveal.js/test/examples/assets/image1.png\u001b[m\r\n",
      "\t\u001b[31mdeleted:    ../../SciPyLa/reveal.js/test/examples/assets/image2.png\u001b[m\r\n",
      "\t\u001b[31mdeleted:    ../../SciPyLa/reveal.js/test/examples/barebones.html\u001b[m\r\n",
      "\t\u001b[31mdeleted:    ../../SciPyLa/reveal.js/test/examples/embedded-media.html\u001b[m\r\n",
      "\t\u001b[31mdeleted:    ../../SciPyLa/reveal.js/test/examples/math.html\u001b[m\r\n",
      "\t\u001b[31mdeleted:    ../../SciPyLa/reveal.js/test/examples/slide-backgrounds.html\u001b[m\r\n",
      "\t\u001b[31mdeleted:    ../../SciPyLa/reveal.js/test/qunit-1.12.0.css\u001b[m\r\n",
      "\t\u001b[31mdeleted:    ../../SciPyLa/reveal.js/test/qunit-1.12.0.js\u001b[m\r\n",
      "\t\u001b[31mdeleted:    ../../SciPyLa/reveal.js/test/test-markdown-element-attributes.html\u001b[m\r\n",
      "\t\u001b[31mdeleted:    ../../SciPyLa/reveal.js/test/test-markdown-element-attributes.js\u001b[m\r\n",
      "\t\u001b[31mdeleted:    ../../SciPyLa/reveal.js/test/test-markdown-slide-attributes.html\u001b[m\r\n",
      "\t\u001b[31mdeleted:    ../../SciPyLa/reveal.js/test/test-markdown-slide-attributes.js\u001b[m\r\n",
      "\t\u001b[31mdeleted:    ../../SciPyLa/reveal.js/test/test-markdown.html\u001b[m\r\n",
      "\t\u001b[31mdeleted:    ../../SciPyLa/reveal.js/test/test-markdown.js\u001b[m\r\n",
      "\t\u001b[31mdeleted:    ../../SciPyLa/reveal.js/test/test.html\u001b[m\r\n",
      "\t\u001b[31mdeleted:    ../../SciPyLa/reveal.js/test/test.js\u001b[m\r\n",
      "\r\n",
      "Untracked files:\r\n",
      "  (use \"git add <file>...\" to include in what will be committed)\r\n",
      "\r\n",
      "\t\u001b[31m../../AudioDSP/\u001b[m\r\n",
      "\t\u001b[31m../Intro Flask/\u001b[m\r\n",
      "\t\u001b[31m../NotebookIntro/Untitled.ipynb\u001b[m\r\n",
      "\t\u001b[31m../NotebookIntro/reveal.js/\u001b[m\r\n",
      "\t\u001b[31mMakefile\u001b[m\r\n",
      "\t\u001b[31mPlatformIO.ipynb\u001b[m\r\n",
      "\t\u001b[31mimg/\u001b[m\r\n",
      "\t\u001b[31mplatform_io.html\u001b[m\r\n",
      "\t\u001b[31mplatform_io.md\u001b[m\r\n",
      "\t\u001b[31mplatform_io.slides.pdf\u001b[m\r\n",
      "\t\u001b[31mtemplate-revealjs.html\u001b[m\r\n",
      "\t\u001b[31m../VagrantSalt/\u001b[m\r\n",
      "\t\u001b[31m../../SciPyLa/reveal.js\u001b[m\r\n",
      "\t\u001b[31m../../pysvgdsl/\u001b[m\r\n",
      "\r\n"
     ]
    }
   ],
   "source": [
    "!git st"
   ]
  },
  {
   "cell_type": "code",
   "execution_count": null,
   "metadata": {
    "collapsed": true
   },
   "outputs": [],
   "source": []
  },
  {
   "cell_type": "code",
   "execution_count": null,
   "metadata": {
    "collapsed": true
   },
   "outputs": [],
   "source": []
  },
  {
   "cell_type": "code",
   "execution_count": null,
   "metadata": {
    "collapsed": true
   },
   "outputs": [],
   "source": []
  },
  {
   "cell_type": "code",
   "execution_count": null,
   "metadata": {
    "collapsed": true
   },
   "outputs": [],
   "source": []
  }
 ],
 "metadata": {
  "celltoolbar": "Slideshow",
  "kernelspec": {
   "display_name": "Python 2",
   "language": "python",
   "name": "python2"
  },
  "language_info": {
   "codemirror_mode": {
    "name": "ipython",
    "version": 2
   },
   "file_extension": ".py",
   "mimetype": "text/x-python",
   "name": "python",
   "nbconvert_exporter": "python",
   "pygments_lexer": "ipython2",
   "version": "2.7.11"
  }
 },
 "nbformat": 4,
 "nbformat_minor": 0
}
