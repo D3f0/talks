{
 "cells": [
  {
   "cell_type": "markdown",
   "metadata": {
    "slideshow": {
     "slide_type": "slide"
    }
   },
   "source": [
    "<a href=\"bit.ly/pio_pata_meetup\">\n",
    "<img src=\"img/qrcode.png\">\n",
    "</a>"
   ]
  },
  {
   "cell_type": "markdown",
   "metadata": {
    "slideshow": {
     "slide_type": "slide"
    }
   },
   "source": [
    "\n",
    "# PlatformIO\n",
    "### Nahuel Defossé\n",
    "### *1er Meetup del Año* 19/03/2016\n",
    "<center>\n",
    "<img src=\"./img/platformio-logo.png\">\n",
    "</center>"
   ]
  },
  {
   "cell_type": "markdown",
   "metadata": {
    "slideshow": {
     "slide_type": "slide"
    }
   },
   "source": [
    "# PlatformIO\n",
    "\n",
    "PlatfromIO es un entorno de desarrollo para controladores embebidos que sirve para:\n",
    " * Administrar el proyecto\n",
    " * Hacer Integración Continua (pruebas de calidad de cambios)\n",
    " * Crear y distribuir librerías\n",
    " * Mayor potencia que el IDE de Arduino, sindo compatible!\n",
    " * Excelente documentación y comunidad"
   ]
  },
  {
   "cell_type": "markdown",
   "metadata": {
    "slideshow": {
     "slide_type": "slide"
    }
   },
   "source": [
    "# Autor\n",
    "<center>\n",
    "<img atl=\"Ivan Kravets\" src=\"img/ivan.jpeg\"\n",
    "\n",
    "</center>"
   ]
  },
  {
   "cell_type": "markdown",
   "metadata": {
    "slideshow": {
     "slide_type": "slide"
    }
   },
   "source": [
    "# Plataformas\n",
    "\n",
    "<center>\n",
    "<img src=\"img/plataformas.png\">\n",
    "</center>\n",
    "\n"
   ]
  },
  {
   "cell_type": "markdown",
   "metadata": {
    "collapsed": true,
    "slideshow": {
     "slide_type": "slide"
    }
   },
   "source": [
    "# Estructura del proyecto\n",
    "\n",
    "<img src=\"img/proj.png\" alt=\"Estructura del proyecto\">\n",
    " "
   ]
  },
  {
   "cell_type": "markdown",
   "metadata": {
    "slideshow": {
     "slide_type": "slide"
    }
   },
   "source": [
    "# `platformio.ini`\n",
    "\n",
    "```ini\n",
    "[env:nodemcuv2]\n",
    "platform = espressif\n",
    "framework = arduino\n",
    "board = nodemcuv2\n",
    "```"
   ]
  },
  {
   "cell_type": "markdown",
   "metadata": {
    "slideshow": {
     "slide_type": "slide"
    }
   },
   "source": [
    "# La IDE...\n",
    "\n",
    "<img src=\"img/arduino-ubuntu.jpg\">"
   ]
  },
  {
   "cell_type": "markdown",
   "metadata": {
    "slideshow": {
     "slide_type": "slide"
    }
   },
   "source": [
    "# La IDE\n",
    "<img src=\"img/ide.png\">"
   ]
  },
  {
   "cell_type": "markdown",
   "metadata": {
    "slideshow": {
     "slide_type": "slide"
    }
   },
   "source": [
    "# Características\n",
    "\n",
    "* Basada en Atom\n",
    "* 200+ embedded boards\n",
    "* 15+ development platforms\n",
    "* 10+ frameworks\n",
    "* Autocompletado y detección de errores inteligente C/C++\n",
    "* Manejador de librerías con 100 disponibles\n",
    "* Multi-projects con múltiples paneles\n",
    "* Soporte de temas\n",
    "* Monitor serial\n",
    "* Terminal incorporada para acceso a PlatformIO CLI (`pio`, `platformio`)"
   ]
  },
  {
   "cell_type": "markdown",
   "metadata": {
    "slideshow": {
     "slide_type": "slide"
    }
   },
   "source": [
    "# Comunidad\n",
    " * [GitHub](https://github.com/platformio/platformio)\n",
    " * [Gitter (chat)](https://gitter.im/platformio/platformio)"
   ]
  },
  {
   "cell_type": "markdown",
   "metadata": {
    "slideshow": {
     "slide_type": "slide"
    }
   },
   "source": [
    "# ¿Puedo Agregar Otra Plataforma?\n",
    " - Si!\n",
    " - Aún faltan varias plataformas soportadas por Arduino:\n",
    "   - Intel Galileo ([Issue #137](https://github.com/platformio/platformio/issues/157#issuecomment-189547354))\n",
    "   - Múltiplo N6\n",
    "   - Pingüino"
   ]
  },
  {
   "cell_type": "markdown",
   "metadata": {
    "slideshow": {
     "slide_type": "slide"
    }
   },
   "source": [
    "# DEMO TIME!\n",
    "\n",
    "* Microncontrolador + WiFi\n",
    "* Bajo costo\n",
    "* 10 pines GPIO (SPI, ADC, etc)\n",
    "* MQTT Broker [Mosquitto](http://mosquito.org)\n",
    "* Plugin para chrome [*Mqtt Client - TCP and WS*](https://chrome.google.com/webstore/detail/mqtt-client-tcp-and-ws/kaajoficamnjijhkeomgfljpicifbkaf)\n",
    "\n",
    "<center>\n",
    "<img src=\"img/nodemcu.jpg\">\n",
    "</center>"
   ]
  },
  {
   "cell_type": "markdown",
   "metadata": {
    "slideshow": {
     "slide_type": "slide"
    }
   },
   "source": [
    "# Nos vemos en Mayo\n",
    "<img src=\"img/competencia.png\">"
   ]
  },
  {
   "cell_type": "code",
   "execution_count": 36,
   "metadata": {
    "collapsed": false
   },
   "outputs": [],
   "source": [
    "!open ."
   ]
  },
  {
   "cell_type": "code",
   "execution_count": null,
   "metadata": {
    "collapsed": true
   },
   "outputs": [],
   "source": []
  },
  {
   "cell_type": "code",
   "execution_count": null,
   "metadata": {
    "collapsed": true
   },
   "outputs": [],
   "source": []
  },
  {
   "cell_type": "code",
   "execution_count": null,
   "metadata": {
    "collapsed": true
   },
   "outputs": [],
   "source": []
  },
  {
   "cell_type": "code",
   "execution_count": 32,
   "metadata": {
    "collapsed": false,
    "slideshow": {
     "slide_type": "skip"
    }
   },
   "outputs": [
    {
     "name": "stdout",
     "output_type": "stream",
     "text": [
      "jupyter nbconvert --to slides PlatformIO.ipynb\n",
      "[NbConvertApp] Converting notebook PlatformIO.ipynb to slides\n",
      "[NbConvertApp] Writing 198668 bytes to PlatformIO.slides.html\n",
      "git add -u\n",
      "git commit -m \"Update!\"\n",
      "[master 9b6ebd5] Update!\n",
      " 1 file changed, 6 insertions(+), 12 deletions(-)\n",
      "git push origin master\n",
      "Counting objects: 5, done.\n",
      "Delta compression using up to 4 threads.\n",
      "Compressing objects: 100% (5/5), done.\n",
      "Writing objects: 100% (5/5), 652 bytes | 0 bytes/s, done.\n",
      "Total 5 (delta 1), reused 0 (delta 0)\n",
      "To git@github.com:D3f0/talks.git\n",
      "   f2ff5a8..9b6ebd5  master -> master\n"
     ]
    }
   ],
   "source": [
    "!make git"
   ]
  }
 ],
 "metadata": {
  "celltoolbar": "Slideshow",
  "kernelspec": {
   "display_name": "Python 2",
   "language": "python",
   "name": "python2"
  },
  "language_info": {
   "codemirror_mode": {
    "name": "ipython",
    "version": 2
   },
   "file_extension": ".py",
   "mimetype": "text/x-python",
   "name": "python",
   "nbconvert_exporter": "python",
   "pygments_lexer": "ipython2",
   "version": "2.7.11"
  }
 },
 "nbformat": 4,
 "nbformat_minor": 0
}
