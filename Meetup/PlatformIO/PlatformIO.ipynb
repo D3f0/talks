{
 "cells": [
  {
   "cell_type": "markdown",
   "metadata": {
    "slideshow": {
     "slide_type": "slide"
    }
   },
   "source": [
    "<img src=\"img/qrcode.png\">"
   ]
  },
  {
   "cell_type": "markdown",
   "metadata": {
    "slideshow": {
     "slide_type": "slide"
    }
   },
   "source": [
    "\n",
    "# PlatformIO\n",
    "### Nahuel Defossé\n",
    "### *1er Meetup del Año* 19/03/2016\n",
    "<center>\n",
    "<img src=\"./img/platformio-logo.png\">\n",
    "</center>"
   ]
  },
  {
   "cell_type": "markdown",
   "metadata": {
    "slideshow": {
     "slide_type": "slide"
    }
   },
   "source": [
    "# PlatformIO\n",
    "\n",
    "PlatfromIO es un entorno de desarrollo para controladores embebidos que sirve para:\n",
    " * Administrar el proyecto\n",
    " * Hacer Integración Continua (pruebas de calidad de cambios)\n",
    " * Crear y distribuir librerías\n",
    " * Mayor potencia que el IDE de Arduino, sindo compatible!\n",
    " * Excelente documentación y comunidad"
   ]
  },
  {
   "cell_type": "markdown",
   "metadata": {
    "slideshow": {
     "slide_type": "slide"
    }
   },
   "source": [
    "# Autor\n",
    "<center>\n",
    "<img atl=\"Ivan Kravets\" src=\"img/ivan.jpeg\"\n",
    "\n",
    "</center>"
   ]
  },
  {
   "cell_type": "markdown",
   "metadata": {
    "slideshow": {
     "slide_type": "slide"
    }
   },
   "source": [
    "# Plataformas\n",
    "\n",
    "<center>\n",
    "<img src=\"img/plataformas.png\">\n",
    "</center>\n",
    "\n"
   ]
  },
  {
   "cell_type": "markdown",
   "metadata": {
    "collapsed": true,
    "slideshow": {
     "slide_type": "slide"
    }
   },
   "source": [
    "# Estructura del proyecto\n",
    "\n",
    "<img src=\"img/proj.png\" alt=\"Estructura del proyecto\">\n",
    " "
   ]
  },
  {
   "cell_type": "markdown",
   "metadata": {
    "slideshow": {
     "slide_type": "slide"
    }
   },
   "source": [
    "# `platformio.ini`\n",
    "\n",
    "```ini\n",
    "[env:nodemcuv2]\n",
    "platform = espressif\n",
    "framework = arduino\n",
    "board = nodemcuv2\n",
    "```"
   ]
  },
  {
   "cell_type": "markdown",
   "metadata": {
    "slideshow": {
     "slide_type": "slide"
    }
   },
   "source": [
    "# La IDE\n",
    "<img src=\"img/ide.png\">"
   ]
  },
  {
   "cell_type": "markdown",
   "metadata": {
    "slideshow": {
     "slide_type": "slide"
    }
   },
   "source": [
    "# La IDE\n",
    "\n",
    "* Basada en Atom\n",
    "* Descarga automáticamente y actualiza los frameworks y toolkits\n",
    "* Permite abrir varias carpetas de proyectos\n",
    "  - En IoT es común trabajar con hardware diverso"
   ]
  },
  {
   "cell_type": "markdown",
   "metadata": {
    "slideshow": {
     "slide_type": "slide"
    }
   },
   "source": [
    "# Comunidad\n",
    " * [GitHub](https://github.com/platformio/platformio)\n",
    " * [Gitter (chat)](https://gitter.im/platformio/platformio)"
   ]
  },
  {
   "cell_type": "markdown",
   "metadata": {
    "slideshow": {
     "slide_type": "slide"
    }
   },
   "source": [
    "# ¿Puedo Agregar Otra Plataforma?\n",
    " - Si!\n",
    " - Aún faltan varias plataformas soportadas por Arduino:\n",
    "   - Intel Galileo ([Issue #137](https://github.com/platformio/platformio/issues/157#issuecomment-189547354))\n",
    "   - Múltiplo N6\n",
    "   - Pingüino"
   ]
  },
  {
   "cell_type": "markdown",
   "metadata": {
    "slideshow": {
     "slide_type": "slide"
    }
   },
   "source": [
    "# DEMO TIME!\n",
    "\n",
    "* Microncontrolador + WiFi\n",
    "* Bajo costo\n",
    "* 10 pines GPIO (SPI, ADC, etc)\n",
    "\n",
    "<center>\n",
    "<img src=\"img/nodemcu.jpg\">\n",
    "</center>"
   ]
  },
  {
   "cell_type": "code",
   "execution_count": 19,
   "metadata": {
    "collapsed": false,
    "slideshow": {
     "slide_type": "skip"
    }
   },
   "outputs": [
    {
     "name": "stdout",
     "output_type": "stream",
     "text": [
      "Counting objects: 119, done.\n",
      "Delta compression using up to 4 threads.\n",
      "Compressing objects: 100% (112/112), done.\n",
      "Writing objects: 100% (119/119), 1.78 MiB | 380.00 KiB/s, done.\n",
      "Total 119 (delta 18), reused 0 (delta 0)\n",
      "To git@github.com:D3f0/talks.git\n",
      "   e9aa616..cfdfd93  master -> master\n"
     ]
    }
   ],
   "source": [
    "!git push origin master"
   ]
  },
  {
   "cell_type": "code",
   "execution_count": 26,
   "metadata": {
    "collapsed": false,
    "slideshow": {
     "slide_type": "skip"
    }
   },
   "outputs": [
    {
     "name": "stdout",
     "output_type": "stream",
     "text": [
      "git add -u\n",
      "git commit -m \"Update!\"\n",
      "[master 3586785] Update!\n",
      " 97 files changed, 20399 insertions(+)\n",
      " create mode 100644 Meetup/PlatformIO/reveal.js/CONTRIBUTING.md\n",
      " create mode 100644 Meetup/PlatformIO/reveal.js/Gruntfile.js\n",
      " create mode 100644 Meetup/PlatformIO/reveal.js/LICENSE\n",
      " create mode 100644 Meetup/PlatformIO/reveal.js/README.md\n",
      " create mode 100644 Meetup/PlatformIO/reveal.js/bower.json\n",
      " create mode 100644 Meetup/PlatformIO/reveal.js/css/print/paper.css\n",
      " create mode 100644 Meetup/PlatformIO/reveal.js/css/print/pdf.css\n",
      " create mode 100644 Meetup/PlatformIO/reveal.js/css/reveal.css\n",
      " create mode 100644 Meetup/PlatformIO/reveal.js/css/reveal.scss\n",
      " create mode 100644 Meetup/PlatformIO/reveal.js/css/theme/README.md\n",
      " create mode 100644 Meetup/PlatformIO/reveal.js/css/theme/beige.css\n",
      " create mode 100644 Meetup/PlatformIO/reveal.js/css/theme/black.css\n",
      " create mode 100644 Meetup/PlatformIO/reveal.js/css/theme/blood.css\n",
      " create mode 100644 Meetup/PlatformIO/reveal.js/css/theme/league.css\n",
      " create mode 100644 Meetup/PlatformIO/reveal.js/css/theme/moon.css\n",
      " create mode 100644 Meetup/PlatformIO/reveal.js/css/theme/night.css\n",
      " create mode 100644 Meetup/PlatformIO/reveal.js/css/theme/serif.css\n",
      " create mode 100644 Meetup/PlatformIO/reveal.js/css/theme/simple.css\n",
      " create mode 100644 Meetup/PlatformIO/reveal.js/css/theme/sky.css\n",
      " create mode 100644 Meetup/PlatformIO/reveal.js/css/theme/solarized.css\n",
      " create mode 100644 Meetup/PlatformIO/reveal.js/css/theme/source/beige.scss\n",
      " create mode 100644 Meetup/PlatformIO/reveal.js/css/theme/source/black.scss\n",
      " create mode 100644 Meetup/PlatformIO/reveal.js/css/theme/source/blood.scss\n",
      " create mode 100644 Meetup/PlatformIO/reveal.js/css/theme/source/league.scss\n",
      " create mode 100644 Meetup/PlatformIO/reveal.js/css/theme/source/moon.scss\n",
      " create mode 100644 Meetup/PlatformIO/reveal.js/css/theme/source/night.scss\n",
      " create mode 100644 Meetup/PlatformIO/reveal.js/css/theme/source/serif.scss\n",
      " create mode 100644 Meetup/PlatformIO/reveal.js/css/theme/source/simple.scss\n",
      " create mode 100644 Meetup/PlatformIO/reveal.js/css/theme/source/sky.scss\n",
      " create mode 100644 Meetup/PlatformIO/reveal.js/css/theme/source/solarized.scss\n",
      " create mode 100644 Meetup/PlatformIO/reveal.js/css/theme/source/white.scss\n",
      " create mode 100644 Meetup/PlatformIO/reveal.js/css/theme/template/mixins.scss\n",
      " create mode 100644 Meetup/PlatformIO/reveal.js/css/theme/template/settings.scss\n",
      " create mode 100644 Meetup/PlatformIO/reveal.js/css/theme/template/theme.scss\n",
      " create mode 100644 Meetup/PlatformIO/reveal.js/css/theme/white.css\n",
      " create mode 100644 Meetup/PlatformIO/reveal.js/index.html\n",
      " create mode 100644 Meetup/PlatformIO/reveal.js/js/reveal.js\n",
      " create mode 100644 Meetup/PlatformIO/reveal.js/lib/css/zenburn.css\n",
      " create mode 100644 Meetup/PlatformIO/reveal.js/lib/font/league-gothic/LICENSE\n",
      " create mode 100644 Meetup/PlatformIO/reveal.js/lib/font/league-gothic/league-gothic.css\n",
      " create mode 100755 Meetup/PlatformIO/reveal.js/lib/font/league-gothic/league-gothic.eot\n",
      " create mode 100755 Meetup/PlatformIO/reveal.js/lib/font/league-gothic/league-gothic.ttf\n",
      " create mode 100755 Meetup/PlatformIO/reveal.js/lib/font/league-gothic/league-gothic.woff\n",
      " create mode 100644 Meetup/PlatformIO/reveal.js/lib/font/source-sans-pro/LICENSE\n",
      " create mode 100755 Meetup/PlatformIO/reveal.js/lib/font/source-sans-pro/source-sans-pro-italic.eot\n",
      " create mode 100755 Meetup/PlatformIO/reveal.js/lib/font/source-sans-pro/source-sans-pro-italic.ttf\n",
      " create mode 100755 Meetup/PlatformIO/reveal.js/lib/font/source-sans-pro/source-sans-pro-italic.woff\n",
      " create mode 100755 Meetup/PlatformIO/reveal.js/lib/font/source-sans-pro/source-sans-pro-regular.eot\n",
      " create mode 100755 Meetup/PlatformIO/reveal.js/lib/font/source-sans-pro/source-sans-pro-regular.ttf\n",
      " create mode 100755 Meetup/PlatformIO/reveal.js/lib/font/source-sans-pro/source-sans-pro-regular.woff\n",
      " create mode 100755 Meetup/PlatformIO/reveal.js/lib/font/source-sans-pro/source-sans-pro-semibold.eot\n",
      " create mode 100755 Meetup/PlatformIO/reveal.js/lib/font/source-sans-pro/source-sans-pro-semibold.ttf\n",
      " create mode 100755 Meetup/PlatformIO/reveal.js/lib/font/source-sans-pro/source-sans-pro-semibold.woff\n",
      " create mode 100755 Meetup/PlatformIO/reveal.js/lib/font/source-sans-pro/source-sans-pro-semibolditalic.eot\n",
      " create mode 100755 Meetup/PlatformIO/reveal.js/lib/font/source-sans-pro/source-sans-pro-semibolditalic.ttf\n",
      " create mode 100755 Meetup/PlatformIO/reveal.js/lib/font/source-sans-pro/source-sans-pro-semibolditalic.woff\n",
      " create mode 100644 Meetup/PlatformIO/reveal.js/lib/font/source-sans-pro/source-sans-pro.css\n",
      " create mode 100644 Meetup/PlatformIO/reveal.js/lib/js/classList.js\n",
      " create mode 100644 Meetup/PlatformIO/reveal.js/lib/js/head.min.js\n",
      " create mode 100644 Meetup/PlatformIO/reveal.js/lib/js/html5shiv.js\n",
      " create mode 100644 Meetup/PlatformIO/reveal.js/package.json\n",
      " create mode 100644 Meetup/PlatformIO/reveal.js/plugin/highlight/highlight.js\n",
      " create mode 100644 Meetup/PlatformIO/reveal.js/plugin/markdown/example.html\n",
      " create mode 100644 Meetup/PlatformIO/reveal.js/plugin/markdown/example.md\n",
      " create mode 100755 Meetup/PlatformIO/reveal.js/plugin/markdown/markdown.js\n",
      " create mode 100644 Meetup/PlatformIO/reveal.js/plugin/markdown/marked.js\n",
      " create mode 100755 Meetup/PlatformIO/reveal.js/plugin/math/math.js\n",
      " create mode 100644 Meetup/PlatformIO/reveal.js/plugin/multiplex/client.js\n",
      " create mode 100644 Meetup/PlatformIO/reveal.js/plugin/multiplex/index.js\n",
      " create mode 100644 Meetup/PlatformIO/reveal.js/plugin/multiplex/master.js\n",
      " create mode 100644 Meetup/PlatformIO/reveal.js/plugin/notes-server/client.js\n",
      " create mode 100644 Meetup/PlatformIO/reveal.js/plugin/notes-server/index.js\n",
      " create mode 100644 Meetup/PlatformIO/reveal.js/plugin/notes-server/notes.html\n",
      " create mode 100644 Meetup/PlatformIO/reveal.js/plugin/notes/notes.html\n",
      " create mode 100644 Meetup/PlatformIO/reveal.js/plugin/notes/notes.js\n",
      " create mode 100644 Meetup/PlatformIO/reveal.js/plugin/print-pdf/print-pdf.js\n",
      " create mode 100644 Meetup/PlatformIO/reveal.js/plugin/search/search.js\n",
      " create mode 100644 Meetup/PlatformIO/reveal.js/plugin/zoom-js/zoom.js\n",
      " create mode 100644 Meetup/PlatformIO/reveal.js/test/examples/assets/image1.png\n",
      " create mode 100644 Meetup/PlatformIO/reveal.js/test/examples/assets/image2.png\n",
      " create mode 100644 Meetup/PlatformIO/reveal.js/test/examples/barebones.html\n",
      " create mode 100644 Meetup/PlatformIO/reveal.js/test/examples/embedded-media.html\n",
      " create mode 100644 Meetup/PlatformIO/reveal.js/test/examples/math.html\n",
      " create mode 100644 Meetup/PlatformIO/reveal.js/test/examples/slide-backgrounds.html\n",
      " create mode 100644 Meetup/PlatformIO/reveal.js/test/examples/slide-transitions.html\n",
      " create mode 100644 Meetup/PlatformIO/reveal.js/test/qunit-1.12.0.css\n",
      " create mode 100644 Meetup/PlatformIO/reveal.js/test/qunit-1.12.0.js\n",
      " create mode 100644 Meetup/PlatformIO/reveal.js/test/test-markdown-element-attributes.html\n",
      " create mode 100644 Meetup/PlatformIO/reveal.js/test/test-markdown-element-attributes.js\n",
      " create mode 100644 Meetup/PlatformIO/reveal.js/test/test-markdown-slide-attributes.html\n",
      " create mode 100644 Meetup/PlatformIO/reveal.js/test/test-markdown-slide-attributes.js\n",
      " create mode 100644 Meetup/PlatformIO/reveal.js/test/test-markdown.html\n",
      " create mode 100644 Meetup/PlatformIO/reveal.js/test/test-markdown.js\n",
      " create mode 100644 Meetup/PlatformIO/reveal.js/test/test-pdf.html\n",
      " create mode 100644 Meetup/PlatformIO/reveal.js/test/test-pdf.js\n",
      " create mode 100644 Meetup/PlatformIO/reveal.js/test/test.html\n",
      " create mode 100644 Meetup/PlatformIO/reveal.js/test/test.js\n",
      "git push origin master\n",
      "Counting objects: 127, done.\n",
      "Delta compression using up to 4 threads.\n",
      "Compressing objects: 100% (120/120), done.\n",
      "Writing objects: 100% (127/127), 1.53 MiB | 256.00 KiB/s, done.\n",
      "Total 127 (delta 23), reused 0 (delta 0)\n",
      "To git@github.com:D3f0/talks.git\n",
      "   6d500da..3586785  master -> master\n"
     ]
    }
   ],
   "source": [
    "!make git"
   ]
  }
 ],
 "metadata": {
  "celltoolbar": "Slideshow",
  "kernelspec": {
   "display_name": "Python 2",
   "language": "python",
   "name": "python2"
  },
  "language_info": {
   "codemirror_mode": {
    "name": "ipython",
    "version": 2
   },
   "file_extension": ".py",
   "mimetype": "text/x-python",
   "name": "python",
   "nbconvert_exporter": "python",
   "pygments_lexer": "ipython2",
   "version": "2.7.11"
  }
 },
 "nbformat": 4,
 "nbformat_minor": 0
}
