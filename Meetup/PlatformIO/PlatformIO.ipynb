{
 "cells": [
  {
   "cell_type": "markdown",
   "metadata": {
    "slideshow": {
     "slide_type": "slide"
    }
   },
   "source": [
    "<img src=\"img/qrcode.png\">"
   ]
  },
  {
   "cell_type": "markdown",
   "metadata": {
    "slideshow": {
     "slide_type": "slide"
    }
   },
   "source": [
    "\n",
    "# PlatformIO\n",
    "### Nahuel Defossé\n",
    "### *1er Meetup del Año* 19/03/2016\n",
    "<center>\n",
    "<img src=\"./img/platformio-logo.png\">\n",
    "</center>"
   ]
  },
  {
   "cell_type": "markdown",
   "metadata": {
    "slideshow": {
     "slide_type": "slide"
    }
   },
   "source": [
    "# PlatformIO\n",
    "\n",
    "PlatfromIO es un entorno de desarrollo para controladores embebidos que sirve para:\n",
    " * Administrar el proyecto\n",
    " * Hacer Integración Continua (pruebas de calidad de cambios)\n",
    " * Crear y distribuir librerías\n",
    " * Mayor potencia que el IDE de Arduino, sindo compatible!"
   ]
  },
  {
   "cell_type": "markdown",
   "metadata": {
    "slideshow": {
     "slide_type": "slide"
    }
   },
   "source": [
    "# Autor\n",
    "<center>\n",
    "<img atl=\"Ivan Kravets\" src=\"img/ivan.jpeg\"\n",
    "\n",
    "</center>"
   ]
  },
  {
   "cell_type": "markdown",
   "metadata": {
    "slideshow": {
     "slide_type": "slide"
    }
   },
   "source": [
    "# Plataformas\n",
    "\n",
    "<center>\n",
    "<img src=\"img/plataformas.png\">\n",
    "</center>\n",
    "\n"
   ]
  },
  {
   "cell_type": "markdown",
   "metadata": {
    "collapsed": true,
    "slideshow": {
     "slide_type": "slide"
    }
   },
   "source": [
    "# Estructura del proyecto\n",
    "\n",
    "<img src=\"img/proj.png\" alt=\"Estructura del proyecto\">\n",
    " "
   ]
  },
  {
   "cell_type": "markdown",
   "metadata": {
    "slideshow": {
     "slide_type": "slide"
    }
   },
   "source": [
    "# La IDE\n"
   ]
  },
  {
   "cell_type": "markdown",
   "metadata": {
    "slideshow": {
     "slide_type": "slide"
    }
   },
   "source": [
    "# Comunidad\n",
    " * GitHub\n",
    " * Gitter (chat)"
   ]
  },
  {
   "cell_type": "markdown",
   "metadata": {
    "slideshow": {
     "slide_type": "slide"
    }
   },
   "source": [
    "# ¿Puedo Agregar Otra Plataforma?\n",
    " - Si!\n",
    " - Aún faltan varias plataformas soportadas por Arduino:\n",
    "   - Intel\n",
    "   - Múltiplo N6\n",
    "     -  "
   ]
  },
  {
   "cell_type": "code",
   "execution_count": null,
   "metadata": {
    "collapsed": true
   },
   "outputs": [],
   "source": []
  },
  {
   "cell_type": "markdown",
   "metadata": {
    "slideshow": {
     "slide_type": "slide"
    }
   },
   "source": [
    "# DEMO TIME!\n",
    "\n",
    "* Microncontrolador + WiFi\n",
    "* Bajo costo\n",
    "* 10 pines GPIO (SPI, ADC, etc)\n",
    "\n"
   ]
  },
  {
   "cell_type": "code",
   "execution_count": null,
   "metadata": {
    "collapsed": true,
    "slideshow": {
     "slide_type": "skip"
    }
   },
   "outputs": [],
   "source": []
  },
  {
   "cell_type": "code",
   "execution_count": 1,
   "metadata": {
    "collapsed": true,
    "slideshow": {
     "slide_type": "skip"
    }
   },
   "outputs": [],
   "source": [
    "!open ."
   ]
  },
  {
   "cell_type": "code",
   "execution_count": 19,
   "metadata": {
    "collapsed": false,
    "slideshow": {
     "slide_type": "skip"
    }
   },
   "outputs": [
    {
     "name": "stdout",
     "output_type": "stream",
     "text": [
      "Counting objects: 119, done.\n",
      "Delta compression using up to 4 threads.\n",
      "Compressing objects: 100% (112/112), done.\n",
      "Writing objects: 100% (119/119), 1.78 MiB | 380.00 KiB/s, done.\n",
      "Total 119 (delta 18), reused 0 (delta 0)\n",
      "To git@github.com:D3f0/talks.git\n",
      "   e9aa616..cfdfd93  master -> master\n"
     ]
    }
   ],
   "source": [
    "!git push origin master"
   ]
  },
  {
   "cell_type": "code",
   "execution_count": 20,
   "metadata": {
    "collapsed": false,
    "slideshow": {
     "slide_type": "skip"
    }
   },
   "outputs": [
    {
     "name": "stdout",
     "output_type": "stream",
     "text": [
      "[NbConvertApp] Converting notebook PlatformIO.ipynb to slides\n",
      "[NbConvertApp] Writing 195648 bytes to PlatformIO.slides.html\n"
     ]
    }
   ],
   "source": []
  },
  {
   "cell_type": "code",
   "execution_count": null,
   "metadata": {
    "collapsed": true
   },
   "outputs": [],
   "source": []
  }
 ],
 "metadata": {
  "celltoolbar": "Slideshow",
  "kernelspec": {
   "display_name": "Python 2",
   "language": "python",
   "name": "python2"
  },
  "language_info": {
   "codemirror_mode": {
    "name": "ipython",
    "version": 2
   },
   "file_extension": ".py",
   "mimetype": "text/x-python",
   "name": "python",
   "nbconvert_exporter": "python",
   "pygments_lexer": "ipython2",
   "version": "2.7.11"
  }
 },
 "nbformat": 4,
 "nbformat_minor": 0
}
