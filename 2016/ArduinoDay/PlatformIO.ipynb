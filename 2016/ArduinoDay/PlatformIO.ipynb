{
 "cells": [
  {
   "cell_type": "code",
   "execution_count": 58,
   "metadata": {
    "collapsed": false,
    "slideshow": {
     "slide_type": "skip"
    }
   },
   "outputs": [
    {
     "data": {
      "text/html": [
       "<link rel=\"stylesheet\" href=\"font-awesome/css/font-awesome.min.css\">"
      ],
      "text/plain": [
       "<IPython.core.display.HTML object>"
      ]
     },
     "metadata": {},
     "output_type": "display_data"
    }
   ],
   "source": [
    "!qr --factory=svg \"bit.ly/arduinoday_pio\" > img/intro_qr.svg\n",
    "from IPython.display import HTML, display\n",
    "display(HTML('<link rel=\"stylesheet\" href=\"font-awesome/css/font-awesome.min.css\">'))"
   ]
  },
  {
   "cell_type": "markdown",
   "metadata": {
    "slideshow": {
     "slide_type": "slide"
    }
   },
   "source": [
    "Antes de emepzar! Podés eguir la charla desde tu Netbook, Tablet o Teléfono\n",
    "<a href=\"http://bit.ly/arduinoday_pio\">\n",
    "    <img src=\"img/intro_qr.svg\" width=\"60%\" height=\"60%\">\n",
    "    <br/>\n",
    "    <p style=\"tex-align: center;\">\n",
    "        http://bit.ly/arduinoday_pio\n",
    "    </p>\n",
    "</a>\n"
   ]
  },
  {
   "cell_type": "markdown",
   "metadata": {
    "slideshow": {
     "slide_type": "slide"
    }
   },
   "source": [
    "# PlatformIO\n",
    "## Arduino Day\n",
    "### Nahuel Defossé\n",
    "<p style=\"font-size: 2em; text-align: center;\">\n",
    "<a href=\"https://github.com/D3f0\"><i class=\"fa fa-github\"></i></a>\n",
    "<a href=\"https://twitter.com/D3f0\"><i class=\"fa fa-twitter\"></i></a>\n",
    "<a href=\"https://plus.google.com/u/0/102536044936372257605\"><i class=\"fa fa-google-plus\"></i></a>\n",
    "<a href=\"https://bitbucket.org/D3f0/\"><i class=\"fa fa-bitbucket\"></i></a>\n",
    "</p>\n",
    "\n"
   ]
  },
  {
   "cell_type": "markdown",
   "metadata": {
    "slideshow": {
     "slide_type": "slide"
    }
   },
   "source": [
    "# Arduino\n",
    "\n",
    "## ¿A que le llamamos Arduino?\n"
   ]
  },
  {
   "cell_type": "markdown",
   "metadata": {
    "slideshow": {
     "slide_type": "fragment"
    }
   },
   "source": [
    "### Hardware\n",
    "* Esquemáticos libres\n",
    "* Pines para interconexión con shields\n",
    "* Porgramación sin programador <i class=\"fa fa-usb\"></i>\n"
   ]
  },
  {
   "cell_type": "markdown",
   "metadata": {
    "slideshow": {
     "slide_type": "fragment"
    }
   },
   "source": [
    "### Software\n",
    "* IDE\n",
    "* Lenguaje C++ (camuflado)\n",
    "* Wiring (pinMode, digitalRead, digitalWrite)\n",
    "* Librerías"
   ]
  },
  {
   "cell_type": "markdown",
   "metadata": {
    "slideshow": {
     "slide_type": "slide"
    }
   },
   "source": [
    "# Arduino Uno, Mega, Due, etc.\n",
    "<img src=\"img/arduino-microcontrollers.jpg\">"
   ]
  },
  {
   "cell_type": "markdown",
   "metadata": {
    "slideshow": {
     "slide_type": "subslide"
    }
   },
   "source": [
    "# Teensy (Cortex M3)\n",
    "<img src=\"img/teensy32.jpg\">"
   ]
  },
  {
   "cell_type": "markdown",
   "metadata": {
    "slideshow": {
     "slide_type": "subslide"
    }
   },
   "source": [
    "# Intel Galileo/Edison\n",
    "<img src=\"img/galileo.jpg\">"
   ]
  },
  {
   "cell_type": "markdown",
   "metadata": {},
   "source": [
    "# Pignuino (basada en PIC)\n",
    "<img src=\"img/pinguino.jpg\">"
   ]
  },
  {
   "cell_type": "markdown",
   "metadata": {
    "slideshow": {
     "slide_type": "subslide"
    }
   },
   "source": [
    "# NodeMCU<i class=\"fa fa-wifi\">&nbsp;</i>\n",
    "\n",
    "<img src=\"img/nodemcu.jpg\">"
   ]
  },
  {
   "cell_type": "markdown",
   "metadata": {
    "slideshow": {
     "slide_type": "subslide"
    }
   },
   "source": [
    "### <i class=\"fa fa-star\">&nbsp;</i> Esta placa vamos a usar para la demo <i class=\"fa fa-star\">&nbsp;</i>"
   ]
  },
  {
   "cell_type": "markdown",
   "metadata": {
    "slideshow": {
     "slide_type": "subslide"
    }
   },
   "source": [
    "# Pinguino\n",
    "<img src=\"img/pinguino.jpg\">"
   ]
  },
  {
   "cell_type": "markdown",
   "metadata": {
    "slideshow": {
     "slide_type": "slide"
    }
   },
   "source": [
    "# Porgramar microcontroladores nunca fue tan simple\n",
    "\n",
    "```c\n",
    "void setup() {\n",
    "    Serial.being(115200);\n",
    "}\n",
    "\n",
    "void loop() {\n",
    "    Serial.println(\"Hola mundo\");\n",
    "    delay(1000);\n",
    "}\n",
    "```\n"
   ]
  },
  {
   "cell_type": "markdown",
   "metadata": {
    "slideshow": {
     "slide_type": "slide"
    }
   },
   "source": [
    "# ¿Cómo es la realidad?"
   ]
  },
  {
   "cell_type": "markdown",
   "metadata": {
    "slideshow": {
     "slide_type": "fragment"
    }
   },
   "source": [
    "### <i class=\"fa fa-thumbs-o-down\">&nbsp;</i> La IDE de Arduino carece de autocompletado y detección de errores"
   ]
  },
  {
   "cell_type": "markdown",
   "metadata": {
    "slideshow": {
     "slide_type": "fragment"
    }
   },
   "source": [
    "### <i class=\"fa fa-thumbs-o-down\">&nbsp;</i> Lo oficial es solo para Atmel (AVR) e Intel"
   ]
  },
  {
   "cell_type": "markdown",
   "metadata": {
    "slideshow": {
     "slide_type": "fragment"
    }
   },
   "source": [
    "### <i class=\"fa fa-thumbs-o-down\">&nbsp;</i> No está pensada para trabajo en equipo"
   ]
  },
  {
   "cell_type": "markdown",
   "metadata": {
    "slideshow": {
     "slide_type": "slide"
    }
   },
   "source": [
    "# PlatformIO"
   ]
  },
  {
   "cell_type": "markdown",
   "metadata": {
    "slideshow": {
     "slide_type": "fragment"
    }
   },
   "source": [
    "### <i class=\"fa fa-check-square\">&nbsp;</i> Administrador de proyectos basados o no en Arduino\n",
    "\n",
    "#### El comando se llama `pio`"
   ]
  },
  {
   "cell_type": "markdown",
   "metadata": {
    "slideshow": {
     "slide_type": "fragment"
    }
   },
   "source": [
    "### <i class=\"fa fa-check-square\">&nbsp;</i> IDE basada en [Atom](https://atom.io)\n",
    "#### Un editor con muchos plugins :) PlatformIO instala automáticamente algunos\n"
   ]
  },
  {
   "cell_type": "markdown",
   "metadata": {
    "slideshow": {
     "slide_type": "fragment"
    }
   },
   "source": [
    "### <i class=\"fa fa-check-square\">&nbsp;</i> Administra integración contínua"
   ]
  },
  {
   "cell_type": "markdown",
   "metadata": {
    "slideshow": {
     "slide_type": "slide"
    }
   },
   "source": [
    "# La IDE"
   ]
  },
  {
   "cell_type": "markdown",
   "metadata": {
    "slideshow": {
     "slide_type": "subslide"
    }
   },
   "source": [
    "<img src=\"img/pio/pio_7.png\">"
   ]
  },
  {
   "cell_type": "markdown",
   "metadata": {
    "slideshow": {
     "slide_type": "subslide"
    }
   },
   "source": [
    "<img src=\"img/pio/pio_6.png\">"
   ]
  },
  {
   "cell_type": "markdown",
   "metadata": {
    "slideshow": {
     "slide_type": "subslide"
    }
   },
   "source": [
    "<img src=\"img/pio/pio_5.png\">"
   ]
  },
  {
   "cell_type": "markdown",
   "metadata": {
    "slideshow": {
     "slide_type": "subslide"
    }
   },
   "source": [
    "<img src=\"img/pio/pio_4.png\">"
   ]
  },
  {
   "cell_type": "markdown",
   "metadata": {
    "slideshow": {
     "slide_type": "subslide"
    }
   },
   "source": [
    "<img src=\"img/pio/pio_3.png\">"
   ]
  },
  {
   "cell_type": "markdown",
   "metadata": {
    "slideshow": {
     "slide_type": "subslide"
    }
   },
   "source": [
    "<img src=\"img/pio/pio_2.png\">"
   ]
  },
  {
   "cell_type": "markdown",
   "metadata": {
    "slideshow": {
     "slide_type": "subslide"
    }
   },
   "source": [
    "<img src=\"img/pio/pio_1.png\">"
   ]
  },
  {
   "cell_type": "markdown",
   "metadata": {
    "slideshow": {
     "slide_type": "slide"
    }
   },
   "source": [
    "<img src=\"img/pio/pio.gif\">"
   ]
  },
  {
   "cell_type": "markdown",
   "metadata": {
    "slideshow": {
     "slide_type": "slide"
    }
   },
   "source": [
    "# ¿Y si no me gusta la IDE?"
   ]
  },
  {
   "cell_type": "markdown",
   "metadata": {
    "slideshow": {
     "slide_type": "fragment"
    }
   },
   "source": [
    "## Integración con otras IDEs"
   ]
  },
  {
   "cell_type": "markdown",
   "metadata": {
    "slideshow": {
     "slide_type": "fragment"
    }
   },
   "source": [
    "### Se puede elegir otra como CLion, Eclipse, Emacs, Energia, Qt Creator, Sublime Text, Vim, Visual Studio"
   ]
  },
  {
   "cell_type": "markdown",
   "metadata": {
    "slideshow": {
     "slide_type": "fragment"
    }
   },
   "source": [
    "### O se utiliza desde la línea de comandos!"
   ]
  },
  {
   "cell_type": "markdown",
   "metadata": {
    "slideshow": {
     "slide_type": "slide"
    }
   },
   "source": [
    "# Comunidad\n",
    "<img src=\"img/pio/gitter.png\">"
   ]
  },
  {
   "cell_type": "markdown",
   "metadata": {
    "slideshow": {
     "slide_type": "slide"
    }
   },
   "source": [
    "# Demo Time"
   ]
  },
  {
   "cell_type": "code",
   "execution_count": 15,
   "metadata": {
    "collapsed": false,
    "slideshow": {
     "slide_type": "skip"
    }
   },
   "outputs": [
    {
     "name": "stdout",
     "output_type": "stream",
     "text": [
      "[NbConvertApp] Converting notebook PlatformIO.ipynb to slides\n",
      "[NbConvertApp] Writing 207679 bytes to PlatformIO.slides.html\n"
     ]
    }
   ],
   "source": [
    "!jupyter-nbconvert --to slides PlatformIO.ipynb && open PlatformIO.slides.html"
   ]
  },
  {
   "cell_type": "code",
   "execution_count": 60,
   "metadata": {
    "collapsed": true,
    "slideshow": {
     "slide_type": "skip"
    }
   },
   "outputs": [],
   "source": [
    "!open ."
   ]
  },
  {
   "cell_type": "code",
   "execution_count": 61,
   "metadata": {
    "collapsed": false,
    "slideshow": {
     "slide_type": "skip"
    }
   },
   "outputs": [],
   "source": [
    "%%bash\n",
    "test -e reveal.js || {\n",
    "    wget https://github.com/hakimel/reveal.js/archive/3.2.0.zip -O /tmp/reveal.zip\n",
    "    unzip /tmp/reveal.zip\n",
    "    mv reveal.js-* reveal.js\n",
    "    rm /tmp/reveal.js\n",
    "}\n"
   ]
  },
  {
   "cell_type": "code",
   "execution_count": 16,
   "metadata": {
    "collapsed": false,
    "slideshow": {
     "slide_type": "skip"
    }
   },
   "outputs": [
    {
     "name": "stdout",
     "output_type": "stream",
     "text": [
      "jupyter-nbconvert --to slides PlatformIO.ipynb\n"
     ]
    },
    {
     "name": "stderr",
     "output_type": "stream",
     "text": [
      "[NbConvertApp] Converting notebook PlatformIO.ipynb to slides\n",
      "[NbConvertApp] Writing 206082 bytes to PlatformIO.slides.html\n",
      "Everything up-to-date\n"
     ]
    }
   ],
   "source": [
    "%%bash\n",
    "make slides\n",
    "git add -u\n",
    "git add img\n",
    "git push origin master || echo \"Problemas para subir\"\n"
   ]
  },
  {
   "cell_type": "code",
   "execution_count": 17,
   "metadata": {
    "collapsed": true,
    "slideshow": {
     "slide_type": "skip"
    }
   },
   "outputs": [],
   "source": [
    "!open ."
   ]
  },
  {
   "cell_type": "code",
   "execution_count": null,
   "metadata": {
    "collapsed": true,
    "slideshow": {
     "slide_type": "skip"
    }
   },
   "outputs": [],
   "source": []
  }
 ],
 "metadata": {
  "celltoolbar": "Slideshow",
  "kernelspec": {
   "display_name": "Python 2",
   "language": "python",
   "name": "python2"
  },
  "language_info": {
   "codemirror_mode": {
    "name": "ipython",
    "version": 2
   },
   "file_extension": ".py",
   "mimetype": "text/x-python",
   "name": "python",
   "nbconvert_exporter": "python",
   "pygments_lexer": "ipython2",
   "version": "2.7.11"
  }
 },
 "nbformat": 4,
 "nbformat_minor": 0
}
