{
 "cells": [
  {
   "cell_type": "code",
   "execution_count": 25,
   "metadata": {
    "collapsed": false,
    "slideshow": {
     "slide_type": "skip"
    }
   },
   "outputs": [
    {
     "data": {
      "text/html": [
       "\n",
       " <link rel=\"stylesheet\" href=\"custom.css\" type=\"text/css\" />\n"
      ],
      "text/plain": [
       "<IPython.core.display.HTML object>"
      ]
     },
     "metadata": {},
     "output_type": "display_data"
    }
   ],
   "source": [
    "from IPython.display import HTML, display\n",
    "display(HTML('''\n",
    " <link rel=\"stylesheet\" href=\"custom.css\" type=\"text/css\" />\n",
    "'''))"
   ]
  },
  {
   "cell_type": "code",
   "execution_count": 26,
   "metadata": {
    "collapsed": false,
    "slideshow": {
     "slide_type": "skip"
    }
   },
   "outputs": [],
   "source": [
    "!qr --factory=pymaging http://bit.ly/scipyla_scada2iot > img/qr.png"
   ]
  },
  {
   "cell_type": "markdown",
   "metadata": {
    "slideshow": {
     "slide_type": "slide"
    }
   },
   "source": [
    "<center>\n",
    "[![View this Presentation Online](img/qr.png?refresh)](http://bit.ly/scipyla_scada2iot)\n",
    "</center>\n",
    "View this presentation on Notebook Viewer"
   ]
  },
  {
   "cell_type": "markdown",
   "metadata": {
    "slideshow": {
     "slide_type": "slide"
    }
   },
   "source": [
    "# From SCADA to IoT with Python\n",
    "\n",
    "## Nahuel Defossé\n",
    "\n",
    "<h3>\n",
    "<a href=\"https://twitter.com/D3f0\"><i class=\"fa fa-twitter\" aria-hidden=\"true\">&nbsp;</i></a>\n",
    "<a href=\"https://github.com/D3f0\"><i class=\"fa fa-github\" aria-hidden=\"true\">&nbsp;</i></a>\n",
    "</h3>"
   ]
  },
  {
   "cell_type": "markdown",
   "metadata": {
    "slideshow": {
     "slide_type": "slide"
    }
   },
   "source": [
    "# About me <i class=\"fa fa-info-circle\" aria-hidden=\"true\">&nbsp;</i>\n",
    " * Memmber of Research Group focused on Micronctollers and Netowrks.\n",
    " * Chief of Practical Assgnments at Universidad Nacional de la Patagonia\n",
    " * Python Advocate\n",
    "     - Python courses in my local University\n",
    "     - Regularlly give talks at [Patagonian Python Meetup](http://www.meetup.com/es/Patagonia-Python-Meetup/)\n",
    "     - Chair at SciPy Latinamerica [2013](http://www.scipyla.org/conf/2013/) and [2014](http://www.scipyla.org/conf/2014/)"
   ]
  },
  {
   "cell_type": "markdown",
   "metadata": {
    "slideshow": {
     "slide_type": "subslide"
    }
   },
   "source": [
    "# Disclaimer\n",
    " * Not a good English speaker but definetly worse at Protuguese.\n",
    " * Some material cannot be distributed openly, approach me personaly to get more details."
   ]
  },
  {
   "cell_type": "markdown",
   "metadata": {
    "slideshow": {
     "slide_type": "subslide"
    }
   },
   "source": [
    "# Owed credit <i class=\"fa fa-users\" aria-hidden=\"true\">&nbsp;</i>\n",
    "\n",
    " * Ricardo A **Lopez** (UNPSJB, Argentina)\n",
    " * Fernando A **Tinetti**(UNLP, Argentina)\n",
    " * Lautaro **Pecile** (UNPSJB, Argentina)\n",
    " * Diego **van Haaster** (UNPSJB, Argentina)\n",
    " * Sebastián **Wahler** (UNPSJB, Argentina)\n",
    " * Fernando **Páez** (UNPSJB, Argentina)\n",
    " * Manuel **Urriza** (UNS, Argentina)"
   ]
  },
  {
   "cell_type": "markdown",
   "metadata": {
    "slideshow": {
     "slide_type": "slide"
    }
   },
   "source": [
    "# Talk organization\n",
    "\n",
    "* Python for Hardware Interaction\n",
    "* Python for Process Monitoring\n",
    "* Python as tooling \n",
    "* Python in the microcontoller"
   ]
  },
  {
   "cell_type": "markdown",
   "metadata": {
    "slideshow": {
     "slide_type": "slide"
    }
   },
   "source": [
    "# Python for Hardware Interaction"
   ]
  },
  {
   "cell_type": "markdown",
   "metadata": {
    "slideshow": {
     "slide_type": "slide"
    }
   },
   "source": [
    "<img style=\"width: 70%\" src=\"img/real_world_instumentation_w_python.jpg\">\n",
    "<p>Photo by <a href=\"https://www.flickr.com/photos/brewbooks/\">brewbooks</a></p>"
   ]
  },
  {
   "cell_type": "markdown",
   "metadata": {
    "slideshow": {
     "slide_type": "slide"
    }
   },
   "source": [
    "<!-- # SCADA <i class=\"fa fa-tachometer\" aria-hidden=\"true\">&nbsp;</i> -->\n",
    "# Python for Process Monitoring (with Web UI)\n"
   ]
  },
  {
   "cell_type": "markdown",
   "metadata": {
    "slideshow": {
     "slide_type": "slide"
    }
   },
   "source": [
    "# Requirements\n",
    "\n",
    "* Monitor states and events\n",
    "* Using insdustrial protocols\n",
    "* Store in databases and do some calculations\n",
    "* Show ovearall and in detail status (HMI)\n",
    "* Generate reports"
   ]
  },
  {
   "cell_type": "markdown",
   "metadata": {
    "slideshow": {
     "slide_type": "slide"
    }
   },
   "source": [
    "<img src=\"img/estructura.png\">"
   ]
  },
  {
   "cell_type": "markdown",
   "metadata": {
    "slideshow": {
     "slide_type": "slide"
    }
   },
   "source": [
    "<img src=\"img/estructura2.png\">"
   ]
  },
  {
   "cell_type": "markdown",
   "metadata": {
    "slideshow": {
     "slide_type": "slide"
    }
   },
   "source": [
    "### IED\n",
    "\n",
    "<div>\n",
    "<img style=\"float: left;\" src=\"img/alpha2.png\"/>\n",
    "<img style=\"float: right;\" src=\"img/ied.png\"/>\n",
    "</div>"
   ]
  },
  {
   "cell_type": "markdown",
   "metadata": {
    "slideshow": {
     "slide_type": "slide"
    }
   },
   "source": [
    "# COMaster\n",
    "\n",
    "<img src=\"img/comaster.png\">"
   ]
  },
  {
   "cell_type": "markdown",
   "metadata": {
    "slideshow": {
     "slide_type": "slide"
    }
   },
   "source": [
    "# Our specific requirements for electric systems\n",
    "\n",
    "\n",
    "* Time sychronization\n",
    "* State and event retrieval though POLL\n",
    "* Commnds\n",
    "* Designed for low cost 8 bit micro-controllers"
   ]
  },
  {
   "cell_type": "markdown",
   "metadata": {
    "slideshow": {
     "slide_type": "slide"
    }
   },
   "source": [
    "# Wire protocol\n",
    "\n",
    "<pre style=\"font-size: .7em;\">\n",
    "┌─────┬─────┬─────┬─────┬─────┬─────┬─────┐┌─────┐┌─────┬─────┐\n",
    "│ SOF │ SEQ │ QTY │ SRC │ DST │ CMD │ CMD ││ ... ││ BCL │ BCH │\n",
    "│     │     │     │     │     │     │     ││     ││     │     │\n",
    "└─────┴─────┴─────┴─────┴─────┴─────┴─────┘└─────┘└─────┴─────┘\n",
    "┌─────┬───────────┬───────────┬─────┬───────────┬───────────┐  \n",
    "│ QSV │ SV0       │ SV1       │ QDI │ DI0       │ DI1       │  \n",
    "│     │           │           │     │           │           │  \n",
    "└─────┴───────────┴───────────┴─────┴───────────┴───────────┘  \n",
    "┌─────┬───────────┬───────────┬─────┬─────────────────────────┐\n",
    "│ QAI │ AI0       │ AI1       │ QEV │ EV..                    .\n",
    "│     │           │           │     │                         │\n",
    "└─────┴───────────┴───────────┴─────┴─────────────────────────┘\n",
    "</pre>"
   ]
  },
  {
   "cell_type": "markdown",
   "metadata": {
    "slideshow": {
     "slide_type": "slide"
    }
   },
   "source": [
    "# Parsing Mara Frame \n",
    "\n",
    " * `pip install construct`\n",
    " * Forget about `struct`, Constrct gives a DSL for binary parsing."
   ]
  },
  {
   "cell_type": "code",
   "execution_count": 41,
   "metadata": {
    "collapsed": false,
    "slideshow": {
     "slide_type": "subslide"
    }
   },
   "outputs": [
    {
     "data": {
      "text/plain": [
       "Container({'length': 5, 'data': b'hello'})"
      ]
     },
     "execution_count": 41,
     "metadata": {},
     "output_type": "execute_result"
    }
   ],
   "source": [
    "from construct import *\n",
    "\n",
    "PascalString = Struct(\"PascalString\",\n",
    "    UBInt8(\"length\"),\n",
    "    Bytes(\"data\", lambda ctx: ctx.length),\n",
    ")\n",
    "PascalString.parse(b\"\\x05helloXXX\")"
   ]
  },
  {
   "cell_type": "markdown",
   "metadata": {
    "slideshow": {
     "slide_type": "slide"
    }
   },
   "source": [
    "# [Mara Definition]()"
   ]
  },
  {
   "cell_type": "code",
   "execution_count": 44,
   "metadata": {
    "collapsed": true,
    "slideshow": {
     "slide_type": "slide"
    }
   },
   "outputs": [
    {
     "ename": "NameError",
     "evalue": "name 'BaseMaraStruct' is not defined",
     "output_type": "error",
     "traceback": [
      "\u001b[0;31m---------------------------------------------------------------------------\u001b[0m",
      "\u001b[0;31mNameError\u001b[0m                                 Traceback (most recent call last)",
      "\u001b[0;32m<ipython-input-44-870d3e87b414>\u001b[0m in \u001b[0;36m<module>\u001b[0;34m()\u001b[0m\n\u001b[0;32m----> 1\u001b[0;31m MaraFrame = BaseMaraStruct(\n\u001b[0m\u001b[1;32m      2\u001b[0m     \u001b[0;34m'Mara'\u001b[0m\u001b[0;34m,\u001b[0m\u001b[0;34m\u001b[0m\u001b[0m\n\u001b[1;32m      3\u001b[0m     \u001b[0mULInt8\u001b[0m\u001b[0;34m(\u001b[0m\u001b[0;34m'sof'\u001b[0m\u001b[0;34m)\u001b[0m\u001b[0;34m,\u001b[0m\u001b[0;34m\u001b[0m\u001b[0m\n\u001b[1;32m      4\u001b[0m     \u001b[0mULInt8\u001b[0m\u001b[0;34m(\u001b[0m\u001b[0;34m'length'\u001b[0m\u001b[0;34m)\u001b[0m\u001b[0;34m,\u001b[0m\u001b[0;34m\u001b[0m\u001b[0m\n\u001b[1;32m      5\u001b[0m     \u001b[0mULInt8\u001b[0m\u001b[0;34m(\u001b[0m\u001b[0;34m'dest'\u001b[0m\u001b[0;34m)\u001b[0m\u001b[0;34m,\u001b[0m\u001b[0;34m\u001b[0m\u001b[0m\n",
      "\u001b[0;31mNameError\u001b[0m: name 'BaseMaraStruct' is not defined"
     ]
    }
   ],
   "source": [
    "MaraFrame = BaseMaraStruct(\n",
    "    'Mara',\n",
    "    ULInt8('sof'),\n",
    "    ULInt8('length'),\n",
    "    ULInt8('dest'),\n",
    "    ULInt8('source'),\n",
    "    ULInt8('sequence'),\n",
    "    ULInt8('command'),\n",
    "    # Probe(),\n",
    "\n",
    "    If(lambda ctx: ctx.command == 0x10,\n",
    "       # Probe(),\n",
    "       Optional(Payload_10),\n",
    "    ),\n",
    "\n",
    "    If(lambda ctx: ctx.command == 0x12,\n",
    "       PEHAdapter(Payload_PEH),\n",
    "    ),\n",
    "    ULInt16('bcc')\n",
    ")"
   ]
  },
  {
   "cell_type": "markdown",
   "metadata": {
    "slideshow": {
     "slide_type": "slide"
    }
   },
   "source": [
    "# Data Storage\n",
    "\n",
    "* Initially written with SQLAlchemy and Flask\n",
    "* Migrated to Django due to ORM, Admin, REST 3rd party apps and management commands."
   ]
  },
  {
   "cell_type": "markdown",
   "metadata": {
    "slideshow": {
     "slide_type": "slide"
    }
   },
   "source": [
    "<img src=\"img/mara.svg\">"
   ]
  },
  {
   "cell_type": "markdown",
   "metadata": {
    "slideshow": {
     "slide_type": "slide"
    }
   },
   "source": [
    "# [Saving data on DB](https://github.com/D3f0/txscada/blob/master/src/pysmve/nguru/apps/mara/models.py#L200)"
   ]
  },
  {
   "cell_type": "code",
   "execution_count": 48,
   "metadata": {
    "collapsed": true,
    "slideshow": {
     "slide_type": "-"
    }
   },
   "outputs": [
    {
     "ename": "NameError",
     "evalue": "name 'iterbits' is not defined",
     "output_type": "error",
     "traceback": [
      "\u001b[0;31m---------------------------------------------------------------------------\u001b[0m",
      "\u001b[0;31mNameError\u001b[0m                                 Traceback (most recent call last)",
      "\u001b[0;32m<ipython-input-48-9a761d70e974>\u001b[0m in \u001b[0;36m<module>\u001b[0;34m()\u001b[0m\n\u001b[1;32m      1\u001b[0m \u001b[0;31m# DI\u001b[0m\u001b[0;34m\u001b[0m\u001b[0;34m\u001b[0m\u001b[0m\n\u001b[0;32m----> 2\u001b[0;31m \u001b[0;32mfor\u001b[0m \u001b[0mvalue\u001b[0m\u001b[0;34m,\u001b[0m \u001b[0mdi\u001b[0m \u001b[0;32min\u001b[0m \u001b[0mzip\u001b[0m\u001b[0;34m(\u001b[0m\u001b[0miterbits\u001b[0m\u001b[0;34m(\u001b[0m\u001b[0mpayload\u001b[0m\u001b[0;34m.\u001b[0m\u001b[0mdis\u001b[0m\u001b[0;34m,\u001b[0m \u001b[0mlength\u001b[0m\u001b[0;34m=\u001b[0m\u001b[0;36m16\u001b[0m\u001b[0;34m)\u001b[0m\u001b[0;34m,\u001b[0m \u001b[0mself\u001b[0m\u001b[0;34m.\u001b[0m\u001b[0mdis\u001b[0m\u001b[0;34m)\u001b[0m\u001b[0;34m:\u001b[0m\u001b[0;34m\u001b[0m\u001b[0m\n\u001b[0m\u001b[1;32m      3\u001b[0m     \u001b[0;31m# Update value takes care of maskinv\u001b[0m\u001b[0;34m\u001b[0m\u001b[0;34m\u001b[0m\u001b[0m\n\u001b[1;32m      4\u001b[0m     \u001b[0mdi\u001b[0m\u001b[0;34m.\u001b[0m\u001b[0mupdate_value\u001b[0m\u001b[0;34m(\u001b[0m\u001b[0mvalue\u001b[0m\u001b[0;34m,\u001b[0m \u001b[0mq\u001b[0m\u001b[0;34m=\u001b[0m\u001b[0;36m0\u001b[0m\u001b[0;34m,\u001b[0m \u001b[0mlast_update\u001b[0m\u001b[0;34m=\u001b[0m\u001b[0mtimestamp\u001b[0m\u001b[0;34m)\u001b[0m\u001b[0;34m\u001b[0m\u001b[0m\n\u001b[1;32m      5\u001b[0m     \u001b[0mdi_count\u001b[0m \u001b[0;34m+=\u001b[0m \u001b[0;36m1\u001b[0m\u001b[0;34m\u001b[0m\u001b[0m\n",
      "\u001b[0;31mNameError\u001b[0m: name 'iterbits' is not defined"
     ]
    }
   ],
   "source": [
    "# DI\n",
    "for value, di in zip(iterbits(payload.dis, length=16), self.dis):\n",
    "    # Update value takes care of maskinv\n",
    "    di.update_value(value, q=0, last_update=timestamp)\n",
    "    di_count += 1\n",
    "# AI\n",
    "for value, ai in zip(payload.ais, self.ais):\n",
    "    value = value & 0x0FFF\n",
    "    q = (value & 0xC000) >> 14\n",
    "    ai.update_value(value, last_update=timestamp, q=q)\n",
    "    ai_count += 1\n",
    "# ..."
   ]
  },
  {
   "cell_type": "markdown",
   "metadata": {
    "slideshow": {
     "slide_type": "slide"
    }
   },
   "source": [
    "# Human Machine Interface (HMI)\n",
    "\n"
   ]
  },
  {
   "cell_type": "markdown",
   "metadata": {},
   "source": [
    "![](img/smve1.png)"
   ]
  },
  {
   "cell_type": "markdown",
   "metadata": {
    "slideshow": {
     "slide_type": "slide"
    }
   },
   "source": [
    "# SVG\n",
    "\n",
    "* Each *mutable* element has an ID **SVGElement** and belongs to a **Screen** (SVG file).\n",
    "* A **Screen** can have a parent and might have links to other screens (tree structure).\n",
    "* Each **SVGElement** SVG attribute has a formula associated. \n",
    "* When a new value is read from the field, the formula is calculated and the property refreshed on screen.\n",
    "* This formulas are a Pythonish excel syntax, and are loaded into the DB with Pandas' [`read_excel`](http://pandas.pydata.org/pandas-docs/stable/generated/pandas.read_excel.html)"
   ]
  },
  {
   "cell_type": "markdown",
   "metadata": {
    "slideshow": {
     "slide_type": "slide"
    }
   },
   "source": [
    "<img src=\"img/hmi.svg\">"
   ]
  },
  {
   "cell_type": "markdown",
   "metadata": {
    "slideshow": {
     "slide_type": "slide"
    }
   },
   "source": [
    "# Formula\n",
    "\n",
    "```python\n",
    "SI(di.E2152B04.value,si(int(eg.E2189S04.text),eg.E2189S04.stroke,12),si(int(eg.E2152B04.text),6,10))\n",
    "```\n"
   ]
  },
  {
   "cell_type": "markdown",
   "metadata": {
    "slideshow": {
     "slide_type": "slide"
    }
   },
   "source": [
    "## Moving to a less structured scenario\n",
    "* Publisher/Subscriber instead of Polling\n",
    "* Bigger and more deiverse enviroments\n",
    "* **Arduino API** compatible hardware \n"
   ]
  },
  {
   "cell_type": "markdown",
   "metadata": {
    "slideshow": {
     "slide_type": "slide"
    }
   },
   "source": [
    "# PlatformIO\n",
    "\n",
    "<center>\n",
    "<img src=\"img/platformio-logo.png\">\n",
    "</center>"
   ]
  },
  {
   "cell_type": "markdown",
   "metadata": {
    "slideshow": {
     "slide_type": "slide"
    }
   },
   "source": [
    "# Supported PlatformIO boards\n",
    "\n",
    "<img src=\"img/plataformas.png\">"
   ]
  },
  {
   "cell_type": "markdown",
   "metadata": {
    "slideshow": {
     "slide_type": "slide"
    }
   },
   "source": [
    "<div>\n",
    "<img src=\"img/arduino-ubuntu.jpg\" style=\"width: 40%; float: left; margin-top: 4%;\">\n",
    "<img src=\"img/ide.png\" style=\"width: 40%; float: right\">\n",
    "</div>"
   ]
  },
  {
   "cell_type": "code",
   "execution_count": 52,
   "metadata": {
    "collapsed": true
   },
   "outputs": [],
   "source": [
    "!open img"
   ]
  },
  {
   "cell_type": "markdown",
   "metadata": {
    "slideshow": {
     "slide_type": "notes"
    }
   },
   "source": [
    "**CoAP** inherits many concepts from HTTP <br/>\n",
    "**MQTT** Message Queues, QoS."
   ]
  },
  {
   "cell_type": "markdown",
   "metadata": {
    "collapsed": true,
    "slideshow": {
     "slide_type": "slide"
    }
   },
   "source": [
    "# Conclusions\n",
    "\n",
    "* Django ORM might not be the best way to integrate things\n",
    "* Not loosing any package has to be considered in the wire protocol\n",
    "* Design the system for fault tolerance\n",
    "* Python dynamic natu"
   ]
  },
  {
   "cell_type": "code",
   "execution_count": 54,
   "metadata": {
    "collapsed": false,
    "slideshow": {
     "slide_type": "skip"
    }
   },
   "outputs": [
    {
     "name": "stdout",
     "output_type": "stream",
     "text": [
      "[master 8d1619f] Updates Fri May 20 01:21:48 ART 2016\n",
      " 1 file changed, 57 insertions(+), 9 deletions(-)\n",
      "Counting objects: 6, done.\n",
      "Delta compression using up to 4 threads.\n",
      "Compressing objects: 100% (6/6), done.\n",
      "Writing objects: 100% (6/6), 1.07 KiB | 0 bytes/s, done.\n",
      "Total 6 (delta 2), reused 0 (delta 0)\n",
      "To git@github.com:D3f0/talks.git\n",
      "   cbd5bb7..8d1619f  master -> master\n"
     ]
    }
   ],
   "source": [
    "!git add img && git add -u && git commit -m \"Updates $(date)\" && git push origin master"
   ]
  },
  {
   "cell_type": "code",
   "execution_count": 8,
   "metadata": {
    "collapsed": true,
    "slideshow": {
     "slide_type": "skip"
    }
   },
   "outputs": [],
   "source": [
    "!open custom.css"
   ]
  },
  {
   "cell_type": "code",
   "execution_count": 34,
   "metadata": {
    "collapsed": true,
    "slideshow": {
     "slide_type": "skip"
    }
   },
   "outputs": [],
   "source": [
    "!open ."
   ]
  },
  {
   "cell_type": "code",
   "execution_count": null,
   "metadata": {
    "collapsed": true
   },
   "outputs": [],
   "source": []
  }
 ],
 "metadata": {
  "celltoolbar": "Slideshow",
  "kernelspec": {
   "display_name": "Python 3",
   "language": "python",
   "name": "python3"
  },
  "language_info": {
   "codemirror_mode": {
    "name": "ipython",
    "version": 3
   },
   "file_extension": ".py",
   "mimetype": "text/x-python",
   "name": "python",
   "nbconvert_exporter": "python",
   "pygments_lexer": "ipython3",
   "version": "3.5.1"
  }
 },
 "nbformat": 4,
 "nbformat_minor": 0
}
