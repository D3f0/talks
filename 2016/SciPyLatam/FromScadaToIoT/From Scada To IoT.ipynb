{
 "cells": [
  {
   "cell_type": "code",
   "execution_count": 86,
   "metadata": {
    "collapsed": false,
    "slideshow": {
     "slide_type": "skip"
    }
   },
   "outputs": [
    {
     "data": {
      "text/html": [
       "\n",
       " <link rel=\"stylesheet\" href=\"custom.css\" type=\"text/css\" />\n"
      ],
      "text/plain": [
       "<IPython.core.display.HTML object>"
      ]
     },
     "metadata": {},
     "output_type": "display_data"
    }
   ],
   "source": [
    "from IPython.display import HTML, display, SVG\n",
    "display(HTML('''\n",
    " <link rel=\"stylesheet\" href=\"custom.css\" type=\"text/css\" />\n",
    "'''))"
   ]
  },
  {
   "cell_type": "markdown",
   "metadata": {
    "slideshow": {
     "slide_type": "slide"
    }
   },
   "source": [
    "# From SCADA to IoT with Python\n",
    "\n",
    "## Nahuel Defossé (D3f0)\n",
    "\n",
    "\n",
    "\n",
    "<img src=\"img/scipy.png\" style=\"float: right\">\n"
   ]
  },
  {
   "cell_type": "markdown",
   "metadata": {
    "slideshow": {
     "slide_type": "subslide"
    }
   },
   "source": [
    "# Disclaimer\n",
    " * Not a good English speaker but definetly worse at Protuguese.\n",
    " * Some material cannot be distributed openly, approach me personaly to get more details."
   ]
  },
  {
   "cell_type": "markdown",
   "metadata": {
    "slideshow": {
     "slide_type": "slide"
    }
   },
   "source": [
    "# About me <i class=\"fa fa-info-circle\" aria-hidden=\"true\">&nbsp;</i>\n",
    " * Member of Research Group focused on Micro-Controllers and Networks.\n",
    " * Chief of Practical Assgnments at Universidad Nacional de la Patagonia\n",
    " * Python Advocate\n",
    "     - Python courses in my local University\n",
    "     - Frequently give talks at [Patagonian Python Meetup](http://www.meetup.com/es/Patagonia-Python-Meetup/)\n",
    "     - Chair at SciPy Latinamerica [2013](http://www.scipyla.org/conf/2013/) and [2014](http://www.scipyla.org/conf/2014/)\n",
    " * Worked in Electric Transportation industry for 3 years\n",
    " \n",
    "<h3>\n",
    "<a href=\"https://twitter.com/D3f0\"><i class=\"fa fa-twitter\" aria-hidden=\"true\">&nbsp;</i></a>\n",
    "<a href=\"https://github.com/D3f0\"><i class=\"fa fa-github\" aria-hidden=\"true\">&nbsp;</i></a>\n",
    "</h3>"
   ]
  },
  {
   "cell_type": "markdown",
   "metadata": {
    "slideshow": {
     "slide_type": "subslide"
    }
   },
   "source": [
    "# Owed credit <i class=\"fa fa-users\" aria-hidden=\"true\">&nbsp;</i>\n",
    "\n",
    " * Ricardo A **Lopez** (UNPSJB, Argentina)\n",
    " * Fernando A **Tinetti**(UNLP, Argentina)\n",
    " * Lautaro **Pecile** (UNPSJB, Argentina)\n",
    " * Diego **van Haaster** (UNPSJB, Argentina)\n",
    " * Sebastián **Wahler** (UNPSJB, Argentina)\n",
    " * Fernando **Páez** (UNPSJB, Argentina)\n",
    " * Manuel **Urriza** (UNS, Argentina)"
   ]
  },
  {
   "cell_type": "markdown",
   "metadata": {
    "slideshow": {
     "slide_type": "slide"
    }
   },
   "source": [
    "# Talk organization\n",
    "\n",
    "* Python for Process Monitoring (Construct, Twisted, Django)\n",
    "* Python as tooling (PlatformIO)\n",
    "* Python in the MicroController\n",
    "* Conclusions\n",
    "* Future work"
   ]
  },
  {
   "cell_type": "markdown",
   "metadata": {
    "slideshow": {
     "slide_type": "slide"
    }
   },
   "source": [
    "<!-- # SCADA <i class=\"fa fa-tachometer\" aria-hidden=\"true\">&nbsp;</i> -->\n",
    "# Python for Process Monitoring (with Web UI)\n",
    "\n",
    "### Applied to power station\n"
   ]
  },
  {
   "cell_type": "markdown",
   "metadata": {
    "slideshow": {
     "slide_type": "slide"
    }
   },
   "source": [
    "# General Requirements\n",
    "\n",
    "* Noise Resilience to High noise enviroments.\n",
    "* Integrate with old Power Meters\n",
    "* Interactive web HMI\n",
    "* Reports\n",
    "* Low cost"
   ]
  },
  {
   "cell_type": "markdown",
   "metadata": {
    "slideshow": {
     "slide_type": "slide"
    }
   },
   "source": [
    "<div style=\"text-align: center\">\n",
    "<img style=\"width: 60%;\" src=\"img/estructura.png\">\n",
    "</div>"
   ]
  },
  {
   "cell_type": "markdown",
   "metadata": {
    "slideshow": {
     "slide_type": "slide"
    }
   },
   "source": [
    "<div style=\"text-align: center\">\n",
    "<img style=\"width: 70%;\" src=\"img/estructura2.png\">\n",
    "</div>"
   ]
  },
  {
   "cell_type": "markdown",
   "metadata": {
    "slideshow": {
     "slide_type": "slide"
    }
   },
   "source": [
    "### IED\n",
    "\n",
    "<div>\n",
    "<img style=\"float: left;\" src=\"img/alpha2.png\"/>\n",
    "<img style=\"float: right;\" src=\"img/ied.png\"/>\n",
    "</div>"
   ]
  },
  {
   "cell_type": "markdown",
   "metadata": {
    "slideshow": {
     "slide_type": "slide"
    }
   },
   "source": [
    "# COMaster\n",
    "\n",
    "<img style=\"width: 50%\" src=\"img/comaster.png\">"
   ]
  },
  {
   "cell_type": "markdown",
   "metadata": {
    "slideshow": {
     "slide_type": "slide"
    }
   },
   "source": [
    "# Wire protocol\n",
    "\n",
    "<pre style=\"font-size: .7em;\">\n",
    "┌─────┬─────┬─────┬─────┬─────┬─────┬─────┐┌─────┐┌─────┬─────┐\n",
    "│ SOF │ SEQ │ QTY │ SRC │ DST │ CMD │ CMD ││ ... ││ BCL │ BCH │\n",
    "└─────┴─────┴─────┴─────┴─────┴─────┴─────┘└─────┘└─────┴─────┘\n",
    "┌─────┬───────────┬───────────┬─────┬───────────┬───────────┐  \n",
    "│ QSV │ SV0       │ SV1       │ QDI │ DI0       │ DI1       │  \n",
    "└─────┴───────────┴───────────┴─────┴───────────┴───────────┘  \n",
    "┌─────┬───────────┬───────────┬─────┬─────────────────────────┐\n",
    "│ QAI │ AI0       │ AI1       │ QEV │ EV..                    .\n",
    "└─────┴───────────┴───────────┴─────┴─────────────────────────┘\n",
    "</pre>"
   ]
  },
  {
   "cell_type": "markdown",
   "metadata": {
    "slideshow": {
     "slide_type": "slide"
    }
   },
   "source": [
    "# A quick peek at production logs\n",
    "\n",
    "* http://localhost:19001/logtail/poll_mara\n",
    "\n"
   ]
  },
  {
   "cell_type": "markdown",
   "metadata": {
    "slideshow": {
     "slide_type": "slide"
    }
   },
   "source": [
    "# Parsing Mara Frame \n",
    "\n",
    " * `pip install construct`\n",
    " * Forget about Python built in `struct`, Constrct gives a DSL for binary parsing."
   ]
  },
  {
   "cell_type": "code",
   "execution_count": 64,
   "metadata": {
    "collapsed": false,
    "slideshow": {
     "slide_type": "subslide"
    }
   },
   "outputs": [
    {
     "data": {
      "text/plain": [
       "Container({'length': 5, 'data': b'hello'})"
      ]
     },
     "execution_count": 64,
     "metadata": {},
     "output_type": "execute_result"
    }
   ],
   "source": [
    "from construct import *\n",
    "\n",
    "PascalString = Struct(\"PascalString\",\n",
    "    UBInt8(\"length\"),\n",
    "    Bytes(\"data\", lambda ctx: ctx.length),\n",
    ")\n",
    "PascalString.parse(b\"\\x05helloXXX\")"
   ]
  },
  {
   "cell_type": "markdown",
   "metadata": {
    "slideshow": {
     "slide_type": "slide"
    }
   },
   "source": [
    "# [Mara Definition]()"
   ]
  },
  {
   "cell_type": "code",
   "execution_count": 67,
   "metadata": {
    "collapsed": true,
    "slideshow": {
     "slide_type": "slide"
    }
   },
   "outputs": [
    {
     "ename": "NameError",
     "evalue": "name 'BaseMaraStruct' is not defined",
     "output_type": "error",
     "traceback": [
      "\u001b[0;31m---------------------------------------------------------------------------\u001b[0m",
      "\u001b[0;31mNameError\u001b[0m                                 Traceback (most recent call last)",
      "\u001b[0;32m<ipython-input-67-870d3e87b414>\u001b[0m in \u001b[0;36m<module>\u001b[0;34m()\u001b[0m\n\u001b[0;32m----> 1\u001b[0;31m MaraFrame = BaseMaraStruct(\n\u001b[0m\u001b[1;32m      2\u001b[0m     \u001b[0;34m'Mara'\u001b[0m\u001b[0;34m,\u001b[0m\u001b[0;34m\u001b[0m\u001b[0m\n\u001b[1;32m      3\u001b[0m     \u001b[0mULInt8\u001b[0m\u001b[0;34m(\u001b[0m\u001b[0;34m'sof'\u001b[0m\u001b[0;34m)\u001b[0m\u001b[0;34m,\u001b[0m\u001b[0;34m\u001b[0m\u001b[0m\n\u001b[1;32m      4\u001b[0m     \u001b[0mULInt8\u001b[0m\u001b[0;34m(\u001b[0m\u001b[0;34m'length'\u001b[0m\u001b[0;34m)\u001b[0m\u001b[0;34m,\u001b[0m\u001b[0;34m\u001b[0m\u001b[0m\n\u001b[1;32m      5\u001b[0m     \u001b[0mULInt8\u001b[0m\u001b[0;34m(\u001b[0m\u001b[0;34m'dest'\u001b[0m\u001b[0;34m)\u001b[0m\u001b[0;34m,\u001b[0m\u001b[0;34m\u001b[0m\u001b[0m\n",
      "\u001b[0;31mNameError\u001b[0m: name 'BaseMaraStruct' is not defined"
     ]
    }
   ],
   "source": [
    "MaraFrame = BaseMaraStruct(\n",
    "    'Mara',\n",
    "    ULInt8('sof'),\n",
    "    ULInt8('length'),\n",
    "    ULInt8('dest'),\n",
    "    ULInt8('source'),\n",
    "    ULInt8('sequence'),\n",
    "    ULInt8('command'),\n",
    "    # Probe(),\n",
    "\n",
    "    If(lambda ctx: ctx.command == 0x10,\n",
    "       # Probe(),\n",
    "       Optional(Payload_10),\n",
    "    ),\n",
    "\n",
    "    If(lambda ctx: ctx.command == 0x12,\n",
    "       PEHAdapter(Payload_PEH),\n",
    "    ),\n",
    "    ULInt16('bcc')\n",
    ")"
   ]
  },
  {
   "cell_type": "markdown",
   "metadata": {
    "slideshow": {
     "slide_type": "slide"
    }
   },
   "source": [
    "# Data Storage\n",
    "\n",
    "* Initially written with SQLAlchemy and Flask\n",
    "* Migrated to Django due to ORM, Admin, REST 3rd party apps and management commands."
   ]
  },
  {
   "cell_type": "markdown",
   "metadata": {
    "slideshow": {
     "slide_type": "slide"
    }
   },
   "source": [
    "<img src=\"img/mara.svg\">"
   ]
  },
  {
   "cell_type": "markdown",
   "metadata": {
    "slideshow": {
     "slide_type": "slide"
    }
   },
   "source": [
    "# [Saving data on DB](https://github.com/D3f0/txscada/blob/master/src/pysmve/nguru/apps/mara/models.py#L200)"
   ]
  },
  {
   "cell_type": "code",
   "execution_count": 68,
   "metadata": {
    "collapsed": true,
    "slideshow": {
     "slide_type": "-"
    }
   },
   "outputs": [
    {
     "ename": "NameError",
     "evalue": "name 'iterbits' is not defined",
     "output_type": "error",
     "traceback": [
      "\u001b[0;31m---------------------------------------------------------------------------\u001b[0m",
      "\u001b[0;31mNameError\u001b[0m                                 Traceback (most recent call last)",
      "\u001b[0;32m<ipython-input-68-9a761d70e974>\u001b[0m in \u001b[0;36m<module>\u001b[0;34m()\u001b[0m\n\u001b[1;32m      1\u001b[0m \u001b[0;31m# DI\u001b[0m\u001b[0;34m\u001b[0m\u001b[0;34m\u001b[0m\u001b[0m\n\u001b[0;32m----> 2\u001b[0;31m \u001b[0;32mfor\u001b[0m \u001b[0mvalue\u001b[0m\u001b[0;34m,\u001b[0m \u001b[0mdi\u001b[0m \u001b[0;32min\u001b[0m \u001b[0mzip\u001b[0m\u001b[0;34m(\u001b[0m\u001b[0miterbits\u001b[0m\u001b[0;34m(\u001b[0m\u001b[0mpayload\u001b[0m\u001b[0;34m.\u001b[0m\u001b[0mdis\u001b[0m\u001b[0;34m,\u001b[0m \u001b[0mlength\u001b[0m\u001b[0;34m=\u001b[0m\u001b[0;36m16\u001b[0m\u001b[0;34m)\u001b[0m\u001b[0;34m,\u001b[0m \u001b[0mself\u001b[0m\u001b[0;34m.\u001b[0m\u001b[0mdis\u001b[0m\u001b[0;34m)\u001b[0m\u001b[0;34m:\u001b[0m\u001b[0;34m\u001b[0m\u001b[0m\n\u001b[0m\u001b[1;32m      3\u001b[0m     \u001b[0;31m# Update value takes care of maskinv\u001b[0m\u001b[0;34m\u001b[0m\u001b[0;34m\u001b[0m\u001b[0m\n\u001b[1;32m      4\u001b[0m     \u001b[0mdi\u001b[0m\u001b[0;34m.\u001b[0m\u001b[0mupdate_value\u001b[0m\u001b[0;34m(\u001b[0m\u001b[0mvalue\u001b[0m\u001b[0;34m,\u001b[0m \u001b[0mq\u001b[0m\u001b[0;34m=\u001b[0m\u001b[0;36m0\u001b[0m\u001b[0;34m,\u001b[0m \u001b[0mlast_update\u001b[0m\u001b[0;34m=\u001b[0m\u001b[0mtimestamp\u001b[0m\u001b[0;34m)\u001b[0m\u001b[0;34m\u001b[0m\u001b[0m\n\u001b[1;32m      5\u001b[0m     \u001b[0mdi_count\u001b[0m \u001b[0;34m+=\u001b[0m \u001b[0;36m1\u001b[0m\u001b[0;34m\u001b[0m\u001b[0m\n",
      "\u001b[0;31mNameError\u001b[0m: name 'iterbits' is not defined"
     ]
    }
   ],
   "source": [
    "# DI\n",
    "for value, di in zip(iterbits(payload.dis, length=16), self.dis):\n",
    "    # Update value takes care of maskinv\n",
    "    di.update_value(value, q=0, last_update=timestamp)\n",
    "    di_count += 1\n",
    "# AI\n",
    "for value, ai in zip(payload.ais, self.ais):\n",
    "    value = value & 0x0FFF\n",
    "    q = (value & 0xC000) >> 14\n",
    "    ai.update_value(value, last_update=timestamp, q=q)\n",
    "    ai_count += 1\n",
    "# ..."
   ]
  },
  {
   "cell_type": "markdown",
   "metadata": {
    "slideshow": {
     "slide_type": "slide"
    }
   },
   "source": [
    "# Human Machine Interface (HMI)\n",
    "\n"
   ]
  },
  {
   "cell_type": "code",
   "execution_count": 71,
   "metadata": {
    "collapsed": false,
    "slideshow": {
     "slide_type": "fragment"
    }
   },
   "outputs": [
    {
     "data": {
      "image/svg+xml": [
       "<svg xmlns=\"http://www.w3.org/2000/svg\" xmlns:xlink=\"http://www.w3.org/1999/xlink\">\n",
       "    <rect height=\"100\" style=\"stroke:#F00; fill: #0F0\" width=\"100\" x=\"10\" y=\"10\"/>\n",
       "</svg>"
      ],
      "text/plain": [
       "<IPython.core.display.SVG object>"
      ]
     },
     "execution_count": 71,
     "metadata": {},
     "output_type": "execute_result"
    }
   ],
   "source": [
    "SVG('''\n",
    "<svg  xmlns=\"http://www.w3.org/2000/svg\"\n",
    "      xmlns:xlink=\"http://www.w3.org/1999/xlink\">\n",
    "    <rect x=\"10\" y=\"10\" height=\"100\" width=\"100\"\n",
    "          style=\"stroke:#F00; fill: #0F0\"/>\n",
    "</svg>\n",
    "''')"
   ]
  },
  {
   "cell_type": "markdown",
   "metadata": {
    "slideshow": {
     "slide_type": "slide"
    }
   },
   "source": [
    "![](img/smve1.png)"
   ]
  },
  {
   "cell_type": "markdown",
   "metadata": {
    "slideshow": {
     "slide_type": "slide"
    }
   },
   "source": [
    "# SVG\n",
    "\n",
    "* Each *mutable* element has an ID **SVGElement** and belongs to a **Screen** (SVG file).\n",
    "* A **Screen** can have a parent and might have links to other screens (tree structure).\n",
    "* Each **SVGElement** SVG attribute has a formula associated. \n",
    "* When a new value is read from the field, the formula is calculated and the property refreshed on screen.\n",
    "* This formulas are a Pythonish excel syntax, and are loaded into the DB with Pandas' [`read_excel`](http://pandas.pydata.org/pandas-docs/stable/generated/pandas.read_excel.html)"
   ]
  },
  {
   "cell_type": "markdown",
   "metadata": {
    "slideshow": {
     "slide_type": "slide"
    }
   },
   "source": [
    "<img src=\"img/hmi.svg\">"
   ]
  },
  {
   "cell_type": "markdown",
   "metadata": {
    "slideshow": {
     "slide_type": "slide"
    }
   },
   "source": [
    "# Formula\n",
    "\n",
    "```python\n",
    "SI(di.E2152B04.value,si(int(eg.E2189S04.text),eg.E2189S04.stroke,12),si(int(eg.E2152B04.text),6,10))\n",
    "```\n"
   ]
  },
  {
   "cell_type": "markdown",
   "metadata": {
    "slideshow": {
     "slide_type": "slide"
    }
   },
   "source": [
    "# Historical data\n",
    "<img src=\"img/curvas.png\">"
   ]
  },
  {
   "cell_type": "markdown",
   "metadata": {
    "slideshow": {
     "slide_type": "fragment"
    }
   },
   "source": [
    "### Would be great to rewrite this in Bokeh"
   ]
  },
  {
   "cell_type": "markdown",
   "metadata": {
    "slideshow": {
     "slide_type": "slide"
    }
   },
   "source": [
    "# Towards a IoT scenario\n",
    "\n",
    "* Bigger and more deiverse enviroments\n",
    "* **Arduino API** compatible hardware \n"
   ]
  },
  {
   "cell_type": "markdown",
   "metadata": {
    "slideshow": {
     "slide_type": "slide"
    }
   },
   "source": [
    "# PlatformIO\n",
    "\n",
    "<center>\n",
    "<img src=\"img/platformio-logo.png\">\n",
    "</center>"
   ]
  },
  {
   "cell_type": "markdown",
   "metadata": {
    "slideshow": {
     "slide_type": "slide"
    }
   },
   "source": [
    " * Colourful command-line output\n",
    " * IDE Integration with Arduino, Atom, CLion, Eclipse, Emacs, Energia, Qt Creator, Sublime Text, Vim, Visual Studio\n",
    " * Cloud compiling and Continuous Integration with AppVeyor, Circle CI, Drone, Shippable, Travis CI\n",
    " * Built-in Serial Port Monitor and configurable build -flags/-options\n",
    " * Automatic firmware uploading\n",
    " * Pre-built toolchains, frameworks for the popular Hardware Platforms"
   ]
  },
  {
   "cell_type": "markdown",
   "metadata": {
    "slideshow": {
     "slide_type": "slide"
    }
   },
   "source": [
    "# Supported PlatformIO boards\n",
    "\n",
    "<img src=\"img/plataformas.png\">"
   ]
  },
  {
   "cell_type": "markdown",
   "metadata": {
    "slideshow": {
     "slide_type": "slide"
    }
   },
   "source": [
    "<div>\n",
    "    <img src=\"img/pio.gif\">\n",
    "</div>"
   ]
  },
  {
   "cell_type": "markdown",
   "metadata": {
    "slideshow": {
     "slide_type": "slide"
    }
   },
   "source": [
    "# MQTT\n",
    "\n",
    "* Message Oriented Middleware OASIS Standard\n",
    "* Very efficient and desinged for constrained hardware\n",
    "* A message has:\n",
    "    - Topic\n",
    "    - Payload\n",
    "* FOSS and Comercial implementation\n",
    "* Used by Facebook at [Messenger](https://www.facebook.com/notes/facebook-engineering/building-facebook-messenger/10150259350998920/)"
   ]
  },
  {
   "cell_type": "markdown",
   "metadata": {
    "slideshow": {
     "slide_type": "slide"
    }
   },
   "source": [
    "<img src=\"img/mqtt_msft.jpg\">\n",
    "Image from <a href=\"http://pt.slideshare.net/paolopat/mqtt-iot-protocols-comparison/8\">Paolo Patierno</a>"
   ]
  },
  {
   "cell_type": "markdown",
   "metadata": {
    "slideshow": {
     "slide_type": "slide"
    }
   },
   "source": [
    "# An MQTT Example\n",
    "\n",
    "* Built in PlatformIO IDE\n",
    "* Arduino callback\n"
   ]
  },
  {
   "cell_type": "code",
   "execution_count": 80,
   "metadata": {
    "collapsed": false,
    "slideshow": {
     "slide_type": "-"
    }
   },
   "outputs": [],
   "source": [
    "!mosquitto_pub -t /esp/led -m 1"
   ]
  },
  {
   "cell_type": "code",
   "execution_count": 82,
   "metadata": {
    "collapsed": true
   },
   "outputs": [],
   "source": [
    "!mosquitto_pub -t /esp/led -m 0"
   ]
  },
  {
   "cell_type": "markdown",
   "metadata": {
    "slideshow": {
     "slide_type": "slide"
    }
   },
   "source": [
    "# Python in the Microncotoller\n",
    "\n",
    "<img src=\"img/micropython.jpeg\">"
   ]
  },
  {
   "cell_type": "markdown",
   "metadata": {
    "slideshow": {
     "slide_type": "subslide"
    }
   },
   "source": [
    "* Origninally targeted to PyBoard\n",
    "    - LEDs\n",
    "    - Pins and GPIO\n",
    "    - External interrupts\n",
    "    - Timers\n",
    "    - PWM (pulse width modulation), ADC (analog to digital conversion), DAC (digital to analog conversion), UART (serial bus), SPI bus, I2C bus\n",
    "* Python 3\n",
    "* Have support for many other Boards \n",
    "\n"
   ]
  },
  {
   "cell_type": "markdown",
   "metadata": {
    "slideshow": {
     "slide_type": "slide"
    }
   },
   "source": [
    "# Micro MicroPython port on EDUCIAA\n",
    "\n",
    "* EDU-CIAA-NXP is de educational version of the Argentinan Open Industrial Computer ([CIAA](http://www.proyecto-ciaa.com.ar/))\n",
    "* More on [this video](https://www.youtube.com/watch?v=3M9xytUpySk)\n",
    "* Demo!"
   ]
  },
  {
   "cell_type": "markdown",
   "metadata": {
    "slideshow": {
     "slide_type": "slide"
    }
   },
   "source": [
    "# Future Work\n",
    "\n",
    "* Kivy native app for monitoring processes\n",
    "* Integration with QR Codes\n",
    "* Expose Django DB for analytics through Pandas\n",
    "* Simplify deployment with docker containers"
   ]
  },
  {
   "cell_type": "markdown",
   "metadata": {
    "collapsed": true,
    "slideshow": {
     "slide_type": "notes"
    }
   },
   "source": [
    "# Conclusions so far\n",
    "\n",
    "* Django ORM might not be the best way store data\n",
    "* Not loosing any package has to be considered in the wire protocol, MQTT helps\n",
    "* Design the system for fault tolerance in every level of abstraction\n",
    "* Waiting MQTT support for micropython on ESP8266 based boards"
   ]
  },
  {
   "cell_type": "markdown",
   "metadata": {
    "slideshow": {
     "slide_type": "slide"
    }
   },
   "source": [
    "# Questions?"
   ]
  },
  {
   "cell_type": "markdown",
   "metadata": {
    "slideshow": {
     "slide_type": "slide"
    }
   },
   "source": [
    "# Thanks\n",
    "\n",
    "Take a look at &nbsp;<span style=\"font-size: 3em\">\n",
    "<a href=\"https://github.com/D3f0/txscada\"><i class=\"fa fa-github\" aria-hidden=\"true\">&nbsp;</i></a>\n",
    "</span>\n",
    "\n",
    "\n"
   ]
  },
  {
   "cell_type": "code",
   "execution_count": 88,
   "metadata": {
    "collapsed": false,
    "slideshow": {
     "slide_type": "skip"
    }
   },
   "outputs": [
    {
     "name": "stdout",
     "output_type": "stream",
     "text": [
      "[master 1376ebc] Updates Fri May 20 14:37:36 ART 2016\n",
      " 1 file changed, 44 insertions(+), 49 deletions(-)\n",
      "Counting objects: 6, done.\n",
      "Delta compression using up to 4 threads.\n",
      "Compressing objects: 100% (6/6), done.\n",
      "Writing objects: 100% (6/6), 1.18 KiB | 0 bytes/s, done.\n",
      "Total 6 (delta 2), reused 0 (delta 0)\n",
      "To git@github.com:D3f0/talks.git\n",
      "   8bcae58..1376ebc  master -> master\n"
     ]
    }
   ],
   "source": [
    "!git add img && git add -u && git commit -m \"Updates $(date)\" && git push origin master"
   ]
  },
  {
   "cell_type": "code",
   "execution_count": 75,
   "metadata": {
    "collapsed": true,
    "slideshow": {
     "slide_type": "skip"
    }
   },
   "outputs": [],
   "source": [
    "!open -a iTerm ."
   ]
  },
  {
   "cell_type": "code",
   "execution_count": null,
   "metadata": {
    "collapsed": true,
    "slideshow": {
     "slide_type": "skip"
    }
   },
   "outputs": [],
   "source": []
  }
 ],
 "metadata": {
  "celltoolbar": "Slideshow",
  "kernelspec": {
   "display_name": "Python 3",
   "language": "python",
   "name": "python3"
  },
  "language_info": {
   "codemirror_mode": {
    "name": "ipython",
    "version": 3
   },
   "file_extension": ".py",
   "mimetype": "text/x-python",
   "name": "python",
   "nbconvert_exporter": "python",
   "pygments_lexer": "ipython3",
   "version": "3.5.1"
  }
 },
 "nbformat": 4,
 "nbformat_minor": 0
}
