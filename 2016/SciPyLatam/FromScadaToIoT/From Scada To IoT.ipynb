{
 "cells": [
  {
   "cell_type": "code",
   "execution_count": 25,
   "metadata": {
    "collapsed": true,
    "slideshow": {
     "slide_type": "skip"
    }
   },
   "outputs": [],
   "source": [
    "URL = 'http://bit.ly/scipyla_scada2iot'"
   ]
  },
  {
   "cell_type": "code",
   "execution_count": 26,
   "metadata": {
    "collapsed": false,
    "slideshow": {
     "slide_type": "skip"
    }
   },
   "outputs": [],
   "source": [
    "!qr --factory=pymaging $URL > img/qr.png"
   ]
  },
  {
   "cell_type": "markdown",
   "metadata": {
    "slideshow": {
     "slide_type": "slide"
    }
   },
   "source": [
    "[![View this Presentation Online](img/qr.png?refresh)](http://bit.ly/scipyla_scada2iot)\n",
    "View this presentation on Notebook Viewer"
   ]
  },
  {
   "cell_type": "markdown",
   "metadata": {
    "slideshow": {
     "slide_type": "slide"
    }
   },
   "source": [
    "# From SCADA to IoT\n",
    "\n",
    "## Nahuel Defossé"
   ]
  },
  {
   "cell_type": "markdown",
   "metadata": {
    "slideshow": {
     "slide_type": "subslide"
    }
   },
   "source": [
    "# Disclaimer\n",
    " * Not a good English speaker but definetly worse at Protuguese.\n",
    " * Some material cannot be distributed openly, approach me personaly to get more details."
   ]
  },
  {
   "cell_type": "markdown",
   "metadata": {
    "slideshow": {
     "slide_type": "subslide"
    }
   },
   "source": [
    "# About me <i class=\"fa fa-info-circle\" aria-hidden=\"true\"></i>\n",
    "\n",
    "\n",
    " * Chief of Practical Assgnments at Universidad Nacional de la Patagonia\n",
    " * Memmber of Research groups focused on \"Microcontroadores e Internet\", \"Web Augmentation on SCADA systems\" and \"Coalbrative Systems\".\n",
    " * Python Advocate. It a good hammer 80% of the time."
   ]
  },
  {
   "cell_type": "markdown",
   "metadata": {
    "slideshow": {
     "slide_type": "slide"
    }
   },
   "source": [
    "# Owed credit <i class=\"fa fa-users\" aria-hidden=\"true\"></i>\n",
    "\n",
    " *  Ricardo A Lopez\n",
    " * Fernando A Tinetti \n",
    " * Lautaro Pecile \n",
    " * van Haaster Diego \n",
    " * Wahler Sebastián"
   ]
  },
  {
   "cell_type": "markdown",
   "metadata": {
    "slideshow": {
     "slide_type": "skip"
    }
   },
   "source": [
    "# Where do I come from? <i class=\"fa fa-location-arrow\" aria-hidden=\"true\"></i>\n"
   ]
  },
  {
   "cell_type": "markdown",
   "metadata": {
    "slideshow": {
     "slide_type": "slide"
    }
   },
   "source": [
    "# SCADA <i class=\"fa fa-tachometer\" aria-hidden=\"true\"></i>\n",
    "\n",
    "\n",
    "## Monitor and control industrial processes\n"
   ]
  },
  {
   "cell_type": "markdown",
   "metadata": {
    "slideshow": {
     "slide_type": "subslide"
    }
   },
   "source": [
    "![](img/Scada_BetonSantrali.png)"
   ]
  },
  {
   "cell_type": "markdown",
   "metadata": {
    "slideshow": {
     "slide_type": "subslide"
    }
   },
   "source": [
    "![](img/scadasystem.img_.png)"
   ]
  },
  {
   "cell_type": "markdown",
   "metadata": {
    "slideshow": {
     "slide_type": "subslide"
    }
   },
   "source": [
    "# Industrial Processes\n",
    "<center>\n",
    "![](img/incredible_machine.gif)\n",
    "</center>"
   ]
  },
  {
   "cell_type": "markdown",
   "metadata": {
    "slideshow": {
     "slide_type": "slide"
    }
   },
   "source": [
    "# Implementing network Protocols with Mara\n",
    "\n",
    "## Structure\n",
    "\n",
    "Construct\n",
    "## Sequence\n",
    "Twisted"
   ]
  },
  {
   "cell_type": "markdown",
   "metadata": {
    "slideshow": {
     "slide_type": "slide"
    }
   },
   "source": [
    "# Protocols\n",
    "\n",
    "### Open/Closed\n",
    " - DNP3\n",
    " - Modbus\n",
    " - IEC 60870-5"
   ]
  },
  {
   "cell_type": "markdown",
   "metadata": {
    "slideshow": {
     "slide_type": "slide"
    }
   },
   "source": [
    "# Mara\n",
    "<pre style=\"font-size: .7em;\">\n",
    "┌─────┬─────┬─────┬─────┬─────┬─────┬─────┐┌─────┐┌─────┬─────┐\n",
    "│ SOF │ SEQ │ QTY │ SRC │ DST │ CMD │ CMD ││ ... ││ BCL │ BCH │\n",
    "│     │     │     │     │     │     │     ││     ││     │     │\n",
    "└─────┴─────┴─────┴─────┴─────┴─────┴─────┘└─────┘└─────┴─────┘\n",
    "┌─────┬───────────┬───────────┬─────┬───────────┬───────────┐  \n",
    "│ QSV │ SV0       │ SV1       │ QDI │ DI0       │ DI1       │  \n",
    "│     │           │           │     │           │           │  \n",
    "└─────┴───────────┴───────────┴─────┴───────────┴───────────┘  \n",
    "┌─────┬───────────┬───────────┬─────┬─────────────────────────┐\n",
    "│ QAI │ AI0       │ AI1       │ QEV │ EV..                    .\n",
    "│     │           │           │     │                         │\n",
    "└─────┴───────────┴───────────┴─────┴─────────────────────────┘\n",
    "</pre>"
   ]
  },
  {
   "cell_type": "markdown",
   "metadata": {
    "slideshow": {
     "slide_type": "slide"
    }
   },
   "source": [
    "# Implementing Mara\n",
    "\n",
    "## Structure: Construct\n",
    "\n",
    "## Sequence: Twisted"
   ]
  },
  {
   "cell_type": "markdown",
   "metadata": {
    "slideshow": {
     "slide_type": "slide"
    }
   },
   "source": [
    "# Human Machine Interface (HMI)\n",
    "\n",
    "<br/>\n",
    "## Formulas\n",
    "## SVG"
   ]
  },
  {
   "cell_type": "markdown",
   "metadata": {
    "slideshow": {
     "slide_type": "notes"
    }
   },
   "source": [
    "Buying devices made things "
   ]
  },
  {
   "cell_type": "markdown",
   "metadata": {
    "slideshow": {
     "slide_type": "slide"
    }
   },
   "source": [
    "#"
   ]
  },
  {
   "cell_type": "markdown",
   "metadata": {
    "slideshow": {
     "slide_type": "slide"
    }
   },
   "source": [
    "# IoT\n",
    "\n",
    "* More deviced than people, producing data.\n",
    "* Analytics giving value to data.\n",
    "* Constrained devices and Smart Devices.\n",
    "* Standards"
   ]
  },
  {
   "cell_type": "markdown",
   "metadata": {
    "slideshow": {
     "slide_type": "slide"
    }
   },
   "source": [
    "# Getting Data\n",
    "\n",
    "## CoAP\n",
    " *  Constrained Application Protocol\n",
    " * REST over UDP\n",
    " \n",
    "## MQTT\n",
    " * Message Queue Telemetry Transport\n",
    " *"
   ]
  },
  {
   "cell_type": "markdown",
   "metadata": {
    "slideshow": {
     "slide_type": "notes"
    }
   },
   "source": [
    "**CoAP** inherits many concepts from HTTP <br/>\n",
    "**MQTT** Message Queues, QoS."
   ]
  },
  {
   "cell_type": "markdown",
   "metadata": {
    "slideshow": {
     "slide_type": "slide"
    }
   },
   "source": [
    "# Integration with Smart Devices\n",
    "\n",
    "## Kivy\n",
    "\n",
    "* Easy to develop\n",
    "* Quite complete Python implementation\n",
    "* Good documentation\n"
   ]
  },
  {
   "cell_type": "markdown",
   "metadata": {
    "slideshow": {
     "slide_type": "slide"
    }
   },
   "source": []
  },
  {
   "cell_type": "code",
   "execution_count": 13,
   "metadata": {
    "collapsed": false,
    "slideshow": {
     "slide_type": "skip"
    }
   },
   "outputs": [
    {
     "name": "stdout",
     "output_type": "stream",
     "text": [
      "Counting objects: 13, done.\n",
      "Delta compression using up to 4 threads.\n",
      "Compressing objects: 100% (11/11), done.\n",
      "Writing objects: 100% (13/13), 4.18 KiB | 0 bytes/s, done.\n",
      "Total 13 (delta 0), reused 0 (delta 0)\n",
      "To git@github.com:D3f0/talks.git\n",
      "   15f0d63..7436f93  master -> master\n"
     ]
    }
   ],
   "source": [
    "!git push origin master"
   ]
  },
  {
   "cell_type": "code",
   "execution_count": null,
   "metadata": {
    "collapsed": false,
    "slideshow": {
     "slide_type": "skip"
    }
   },
   "outputs": [
    {
     "name": "stdout",
     "output_type": "stream",
     "text": [
      "[master 697c510] Updates Sun May 15 20:45:21 ART 2016\n",
      " 7 files changed, 302 insertions(+), 41 deletions(-)\n",
      " create mode 100644 2016/SciPyLatam/FromScadaToIoT/img/Scada_BetonSantrali.png\n",
      " create mode 100644 2016/SciPyLatam/FromScadaToIoT/img/incredible_machine.gif\n",
      " create mode 100644 2016/SciPyLatam/FromScadaToIoT/img/qr.png\n",
      " create mode 100644 2016/SciPyLatam/FromScadaToIoT/img/qr.pngs\n",
      " create mode 100644 2016/SciPyLatam/FromScadaToIoT/img/scadasystem.img_.png\n",
      " create mode 100644 2016/SciPyLatam/FromScadaToIoT/img/tumblr_inline_ns4gu3qIKl1raprkq_540.gif\n",
      "Counting objects: 13, done.\n",
      "Delta compression using up to 4 threads.\n",
      "Compressing objects: 100% (12/12), done.\n",
      "Writing objects: 100% (13/13), 5.44 MiB | 400.00 KiB/s, done.\n",
      "Total 13 (delta 0), reused 0 (delta 0)\n",
      "To git@github.com:D3f0/talks.git\n",
      "   f37d738..697c510  master -> master\n"
     ]
    }
   ],
   "source": [
    "!git add img && git add -u && git commit -m \"Updates $(date)\" && git push origin master"
   ]
  },
  {
   "cell_type": "code",
   "execution_count": null,
   "metadata": {
    "collapsed": false,
    "slideshow": {
     "slide_type": "skip"
    }
   },
   "outputs": [],
   "source": [
    "%%bash\n",
    "jupyter-nbconvert --to slides From\\ Scada\\ To\\ IoT.ipynb --post serve\n",
    "# open From\\ Scada\\ To\\ IoT.slides.html"
   ]
  },
  {
   "cell_type": "code",
   "execution_count": 6,
   "metadata": {
    "collapsed": true,
    "slideshow": {
     "slide_type": "skip"
    }
   },
   "outputs": [],
   "source": [
    "!rm reveal.js"
   ]
  },
  {
   "cell_type": "code",
   "execution_count": 8,
   "metadata": {
    "collapsed": true,
    "slideshow": {
     "slide_type": "skip"
    }
   },
   "outputs": [],
   "source": [
    "!open custom.css"
   ]
  },
  {
   "cell_type": "code",
   "execution_count": null,
   "metadata": {
    "collapsed": true
   },
   "outputs": [],
   "source": []
  }
 ],
 "metadata": {
  "celltoolbar": "Slideshow",
  "kernelspec": {
   "display_name": "Python 3",
   "language": "python",
   "name": "python3"
  },
  "language_info": {
   "codemirror_mode": {
    "name": "ipython",
    "version": 3
   },
   "file_extension": ".py",
   "mimetype": "text/x-python",
   "name": "python",
   "nbconvert_exporter": "python",
   "pygments_lexer": "ipython3",
   "version": "3.5.1"
  }
 },
 "nbformat": 4,
 "nbformat_minor": 0
}
