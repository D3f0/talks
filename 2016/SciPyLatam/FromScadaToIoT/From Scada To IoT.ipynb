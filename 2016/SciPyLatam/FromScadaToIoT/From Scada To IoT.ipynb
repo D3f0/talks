{
 "cells": [
  {
   "cell_type": "code",
   "execution_count": 17,
   "metadata": {
    "collapsed": false,
    "slideshow": {
     "slide_type": "skip"
    }
   },
   "outputs": [],
   "source": [
    "import qrcode"
   ]
  },
  {
   "cell_type": "code",
   "execution_count": 18,
   "metadata": {
    "collapsed": true
   },
   "outputs": [],
   "source": [
    "!mkdir img"
   ]
  },
  {
   "cell_type": "code",
   "execution_count": 20,
   "metadata": {
    "collapsed": false
   },
   "outputs": [
    {
     "name": "stdout",
     "output_type": "stream",
     "text": [
      "Collecting pymaging from git+git://github.com/ojii/pymaging.git#egg=pymaging\n",
      "  Cloning git://github.com/ojii/pymaging.git to /private/var/folders/14/wzbrmqn17vlgvdhkgpqccvj40000gn/T/pip-build-aqq_t8s1/pymaging\n",
      "Installing collected packages: pymaging\n",
      "  Running setup.py install for pymaging: started\n",
      "    Running setup.py install for pymaging: finished with status 'done'\n",
      "Successfully installed pymaging-0.1\n",
      "Collecting pymaging-png from git+git://github.com/ojii/pymaging-png.git#egg=pymaging-png\n",
      "  Cloning git://github.com/ojii/pymaging-png.git to /private/var/folders/14/wzbrmqn17vlgvdhkgpqccvj40000gn/T/pip-build-yi6uwvrn/pymaging-png\n",
      "Requirement already satisfied (use --upgrade to upgrade): pymaging in /usr/local/lib/python3.5/site-packages (from pymaging-png)\n",
      "Installing collected packages: pymaging-png\n",
      "  Running setup.py install for pymaging-png: started\n",
      "    Running setup.py install for pymaging-png: finished with status 'done'\n",
      "Successfully installed pymaging-png-0.1\n"
     ]
    }
   ],
   "source": [
    "%%bash\n",
    "pip3 install git+git://github.com/ojii/pymaging.git#egg=pymaging\n",
    "pip3 install git+git://github.com/ojii/pymaging-png.git#egg=pymaging-png"
   ]
  },
  {
   "cell_type": "code",
   "execution_count": 23,
   "metadata": {
    "collapsed": false,
    "slideshow": {
     "slide_type": "skip"
    }
   },
   "outputs": [],
   "source": [
    "!qr --factory=pymaging \"http://bit.ly/scipyla_scada_iot\" > img/qr.png"
   ]
  },
  {
   "cell_type": "markdown",
   "metadata": {
    "slideshow": {
     "slide_type": "slide"
    }
   },
   "source": [
    "[![View this Presentation Online](img/qr.png)](http://bit.ly/scipyla_scada_iot)"
   ]
  },
  {
   "cell_type": "markdown",
   "metadata": {
    "slideshow": {
     "slide_type": "slide"
    }
   },
   "source": [
    "# From SCADA to IoT"
   ]
  },
  {
   "cell_type": "markdown",
   "metadata": {
    "slideshow": {
     "slide_type": "slide"
    }
   },
   "source": [
    "# About me"
   ]
  },
  {
   "cell_type": "markdown",
   "metadata": {
    "slideshow": {
     "slide_type": "slide"
    }
   },
   "source": [
    "# Where do I come from?"
   ]
  },
  {
   "cell_type": "code",
   "execution_count": 13,
   "metadata": {
    "collapsed": false,
    "slideshow": {
     "slide_type": "skip"
    }
   },
   "outputs": [
    {
     "name": "stdout",
     "output_type": "stream",
     "text": [
      "Counting objects: 13, done.\n",
      "Delta compression using up to 4 threads.\n",
      "Compressing objects: 100% (11/11), done.\n",
      "Writing objects: 100% (13/13), 4.18 KiB | 0 bytes/s, done.\n",
      "Total 13 (delta 0), reused 0 (delta 0)\n",
      "To git@github.com:D3f0/talks.git\n",
      "   15f0d63..7436f93  master -> master\n"
     ]
    }
   ],
   "source": [
    "!git push origin master"
   ]
  },
  {
   "cell_type": "code",
   "execution_count": 15,
   "metadata": {
    "collapsed": false,
    "slideshow": {
     "slide_type": "skip"
    }
   },
   "outputs": [
    {
     "name": "stdout",
     "output_type": "stream",
     "text": [
      "[master 741d146] Updates Fri May 13 16:02:12 ART 2016\n",
      " 1 file changed, 52 insertions(+), 5 deletions(-)\n",
      "Counting objects: 6, done.\n",
      "Delta compression using up to 4 threads.\n",
      "Compressing objects: 100% (5/5), done.\n",
      "Writing objects: 100% (6/6), 1.01 KiB | 0 bytes/s, done.\n",
      "Total 6 (delta 1), reused 0 (delta 0)\n",
      "To git@github.com:D3f0/talks.git\n",
      "   7436f93..741d146  master -> master\n"
     ]
    }
   ],
   "source": [
    "!git add -u && git commit -m \"Updates $(date)\" && git push origin master"
   ]
  },
  {
   "cell_type": "code",
   "execution_count": null,
   "metadata": {
    "collapsed": true
   },
   "outputs": [],
   "source": []
  }
 ],
 "metadata": {
  "celltoolbar": "Slideshow",
  "kernelspec": {
   "display_name": "Python 3",
   "language": "python",
   "name": "python3"
  },
  "language_info": {
   "codemirror_mode": {
    "name": "ipython",
    "version": 3
   },
   "file_extension": ".py",
   "mimetype": "text/x-python",
   "name": "python",
   "nbconvert_exporter": "python",
   "pygments_lexer": "ipython3",
   "version": "3.5.1"
  }
 },
 "nbformat": 4,
 "nbformat_minor": 0
}
