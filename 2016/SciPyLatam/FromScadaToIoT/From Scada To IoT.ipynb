{
 "cells": [
  {
   "cell_type": "code",
   "execution_count": 25,
   "metadata": {
    "collapsed": false,
    "slideshow": {
     "slide_type": "skip"
    }
   },
   "outputs": [
    {
     "data": {
      "text/html": [
       "\n",
       " <link rel=\"stylesheet\" href=\"custom.css\" type=\"text/css\" />\n"
      ],
      "text/plain": [
       "<IPython.core.display.HTML object>"
      ]
     },
     "metadata": {},
     "output_type": "display_data"
    }
   ],
   "source": [
    "from IPython.display import HTML, display\n",
    "display(HTML('''\n",
    " <link rel=\"stylesheet\" href=\"custom.css\" type=\"text/css\" />\n",
    "'''))"
   ]
  },
  {
   "cell_type": "code",
   "execution_count": 26,
   "metadata": {
    "collapsed": false,
    "slideshow": {
     "slide_type": "skip"
    }
   },
   "outputs": [],
   "source": [
    "!qr --factory=pymaging http://bit.ly/scipyla_scada2iot > img/qr.png"
   ]
  },
  {
   "cell_type": "markdown",
   "metadata": {
    "slideshow": {
     "slide_type": "slide"
    }
   },
   "source": [
    "<center>\n",
    "[![View this Presentation Online](img/qr.png?refresh)](http://bit.ly/scipyla_scada2iot)\n",
    "</center>\n",
    "View this presentation on Notebook Viewer"
   ]
  },
  {
   "cell_type": "markdown",
   "metadata": {
    "slideshow": {
     "slide_type": "slide"
    }
   },
   "source": [
    "# From SCADA to IoT with Python\n",
    "\n",
    "## Nahuel Defossé\n",
    "\n",
    "<h3>\n",
    "<a href=\"https://twitter.com/D3f0\"><i class=\"fa fa-twitter\" aria-hidden=\"true\">&nbsp;</i></a>\n",
    "<a href=\"https://github.com/D3f0\"><i class=\"fa fa-github\" aria-hidden=\"true\">&nbsp;</i></a>\n",
    "</h3>\n",
    "<h4>\n",
    "🇪🇸😀🇬🇧😀🇧🇷😅\n",
    "</h4>\n"
   ]
  },
  {
   "cell_type": "markdown",
   "metadata": {
    "slideshow": {
     "slide_type": "slide"
    }
   },
   "source": [
    "# About me <i class=\"fa fa-info-circle\" aria-hidden=\"true\">&nbsp;</i>\n",
    " * Memmber of Research Group focused on Micronctollers and Netowrks.\n",
    " * Chief of Practical Assgnments at Universidad Nacional de la Patagonia\n",
    " * Python Advocate. It a good hammer 80% of the time."
   ]
  },
  {
   "cell_type": "markdown",
   "metadata": {
    "slideshow": {
     "slide_type": "fragment"
    }
   },
   "source": [
    "# Disclaimer\n",
    " * Not a good English speaker but definetly worse at Protuguese.\n",
    " * Some material cannot be distributed openly, approach me personaly to get more details."
   ]
  },
  {
   "cell_type": "markdown",
   "metadata": {
    "slideshow": {
     "slide_type": "fragment"
    }
   },
   "source": [
    "# Owed credit <i class=\"fa fa-users\" aria-hidden=\"true\">&nbsp;</i>\n",
    "\n",
    " *  Ricardo A Lopez\n",
    " * Fernando A Tinetti \n",
    " * Lautaro Pecile \n",
    " * van Haaster Diego \n",
    " * Wahler Sebastián"
   ]
  },
  {
   "cell_type": "markdown",
   "metadata": {
    "slideshow": {
     "slide_type": "skip"
    }
   },
   "source": [
    "# Where do I come from? <i class=\"fa fa-location-arrow\" aria-hidden=\"true\">&nbsp;</i>\n"
   ]
  },
  {
   "cell_type": "markdown",
   "metadata": {
    "slideshow": {
     "slide_type": "slide"
    }
   },
   "source": [
    "# SCADA <i class=\"fa fa-tachometer\" aria-hidden=\"true\">&nbsp;</i>\n",
    "\n",
    "\n",
    "## Monitor and control industrial processes\n"
   ]
  },
  {
   "cell_type": "markdown",
   "metadata": {
    "slideshow": {
     "slide_type": "subslide"
    }
   },
   "source": [
    "# What everyone thinks about SCADA\n",
    "<img src=\"img/scadasystem.img_.png\" style=\"width: 80%\">"
   ]
  },
  {
   "cell_type": "markdown",
   "metadata": {
    "slideshow": {
     "slide_type": "subslide"
    }
   },
   "source": [
    "# What SCDA is really like\n",
    "<center>\n",
    "![](img/incredible_machine.gif)\n",
    "</center>"
   ]
  },
  {
   "cell_type": "markdown",
   "metadata": {},
   "source": [
    "# Mara\n",
    "\n",
    "* Time sychronization\n",
    "* State and event retrieval though POLL\n",
    "* Commnds\n",
    "* Designed for networks of 8 bit micro-controllers"
   ]
  },
  {
   "cell_type": "markdown",
   "metadata": {
    "slideshow": {
     "slide_type": "slide"
    }
   },
   "source": [
    "# Mara Frame\n",
    "\n",
    "<pre style=\"font-size: .7em;\">\n",
    "┌─────┬─────┬─────┬─────┬─────┬─────┬─────┐┌─────┐┌─────┬─────┐\n",
    "│ SOF │ SEQ │ QTY │ SRC │ DST │ CMD │ CMD ││ ... ││ BCL │ BCH │\n",
    "│     │     │     │     │     │     │     ││     ││     │     │\n",
    "└─────┴─────┴─────┴─────┴─────┴─────┴─────┘└─────┘└─────┴─────┘\n",
    "┌─────┬───────────┬───────────┬─────┬───────────┬───────────┐  \n",
    "│ QSV │ SV0       │ SV1       │ QDI │ DI0       │ DI1       │  \n",
    "│     │           │           │     │           │           │  \n",
    "└─────┴───────────┴───────────┴─────┴───────────┴───────────┘  \n",
    "┌─────┬───────────┬───────────┬─────┬─────────────────────────┐\n",
    "│ QAI │ AI0       │ AI1       │ QEV │ EV..                    .\n",
    "│     │           │           │     │                         │\n",
    "└─────┴───────────┴───────────┴─────┴─────────────────────────┘\n",
    "</pre>"
   ]
  },
  {
   "cell_type": "markdown",
   "metadata": {
    "slideshow": {
     "slide_type": "slide"
    }
   },
   "source": [
    "# Parsing Mara Frame \n",
    "\n",
    "## Construct\n",
    "\n",
    "```python\n",
    "\n",
    "```"
   ]
  },
  {
   "cell_type": "markdown",
   "metadata": {
    "slideshow": {
     "slide_type": "slide"
    }
   },
   "source": [
    "# Implementing Mara\n",
    "\n",
    "## Structure: Construct\n",
    "\n",
    "## Sequence: Twisted"
   ]
  },
  {
   "cell_type": "markdown",
   "metadata": {
    "slideshow": {
     "slide_type": "slide"
    }
   },
   "source": [
    "# Human Machine Interface (HMI)\n",
    "\n",
    "<br/>\n",
    "## Formulas\n",
    "## SVG"
   ]
  },
  {
   "cell_type": "markdown",
   "metadata": {
    "slideshow": {
     "slide_type": "slide"
    }
   },
   "source": [
    "# IoT\n",
    "\n",
    "## Classical Definition\n",
    "* **More devices** than people, producing data.\n",
    "* Constrained devices and Smart Devices.\n",
    "* Standards\n",
    "* **Analytics** giving value to data."
   ]
  },
  {
   "cell_type": "markdown",
   "metadata": {
    "slideshow": {
     "slide_type": "slide"
    }
   },
   "source": [
    "## In our context...\n",
    "\n",
    "### MQTT\n",
    "* Publisher/Subuscriber protocol.\n",
    "* QoS"
   ]
  },
  {
   "cell_type": "markdown",
   "metadata": {
    "slideshow": {
     "slide_type": "notes"
    }
   },
   "source": [
    "**CoAP** inherits many concepts from HTTP <br/>\n",
    "**MQTT** Message Queues, QoS."
   ]
  },
  {
   "cell_type": "markdown",
   "metadata": {
    "slideshow": {
     "slide_type": "slide"
    }
   },
   "source": [
    "# Integration with Smart Devices\n",
    "\n",
    "## Kivy\n",
    "\n",
    "* Easy to develop\n",
    "* Quite complete Python implementation\n",
    "* Good documentation\n"
   ]
  },
  {
   "cell_type": "markdown",
   "metadata": {
    "slideshow": {
     "slide_type": "slide"
    }
   },
   "source": []
  },
  {
   "cell_type": "code",
   "execution_count": 13,
   "metadata": {
    "collapsed": false,
    "slideshow": {
     "slide_type": "skip"
    }
   },
   "outputs": [
    {
     "name": "stdout",
     "output_type": "stream",
     "text": [
      "Counting objects: 13, done.\n",
      "Delta compression using up to 4 threads.\n",
      "Compressing objects: 100% (11/11), done.\n",
      "Writing objects: 100% (13/13), 4.18 KiB | 0 bytes/s, done.\n",
      "Total 13 (delta 0), reused 0 (delta 0)\n",
      "To git@github.com:D3f0/talks.git\n",
      "   15f0d63..7436f93  master -> master\n"
     ]
    }
   ],
   "source": [
    "!git push origin master"
   ]
  },
  {
   "cell_type": "code",
   "execution_count": 16,
   "metadata": {
    "collapsed": false,
    "slideshow": {
     "slide_type": "skip"
    }
   },
   "outputs": [
    {
     "name": "stdout",
     "output_type": "stream",
     "text": [
      "[master d721543] Updates Sun May 15 22:18:52 ART 2016\n",
      " 1 file changed, 9 insertions(+), 9 deletions(-)\n",
      "Counting objects: 6, done.\n",
      "Delta compression using up to 4 threads.\n",
      "Compressing objects: 100% (5/5), done.\n",
      "Writing objects: 100% (6/6), 676 bytes | 0 bytes/s, done.\n",
      "Total 6 (delta 2), reused 0 (delta 0)\n",
      "To git@github.com:D3f0/talks.git\n",
      "   902ff1c..d721543  master -> master\n"
     ]
    }
   ],
   "source": [
    "!git add img && git add -u && git commit -m \"Updates $(date)\" && git push origin master"
   ]
  },
  {
   "cell_type": "code",
   "execution_count": 12,
   "metadata": {
    "collapsed": false,
    "slideshow": {
     "slide_type": "skip"
    }
   },
   "outputs": [
    {
     "name": "stdout",
     "output_type": "stream",
     "text": [
      "Process is terminated.\n"
     ]
    }
   ],
   "source": [
    "%%bash\n",
    "jupyter-nbconvert --to slides From\\ Scada\\ To\\ IoT.ipynb --post serve\n",
    "# open From\\ Scada\\ To\\ IoT.slides.html"
   ]
  },
  {
   "cell_type": "code",
   "execution_count": 6,
   "metadata": {
    "collapsed": true,
    "slideshow": {
     "slide_type": "skip"
    }
   },
   "outputs": [],
   "source": [
    "!rm reveal.js"
   ]
  },
  {
   "cell_type": "code",
   "execution_count": 8,
   "metadata": {
    "collapsed": true,
    "slideshow": {
     "slide_type": "skip"
    }
   },
   "outputs": [],
   "source": [
    "!open custom.css"
   ]
  },
  {
   "cell_type": "code",
   "execution_count": 24,
   "metadata": {
    "collapsed": true,
    "slideshow": {
     "slide_type": "skip"
    }
   },
   "outputs": [],
   "source": [
    "!open ."
   ]
  }
 ],
 "metadata": {
  "celltoolbar": "Slideshow",
  "kernelspec": {
   "display_name": "Python 3",
   "language": "python",
   "name": "python3"
  },
  "language_info": {
   "codemirror_mode": {
    "name": "ipython",
    "version": 3
   },
   "file_extension": ".py",
   "mimetype": "text/x-python",
   "name": "python",
   "nbconvert_exporter": "python",
   "pygments_lexer": "ipython3",
   "version": "3.5.1"
  }
 },
 "nbformat": 4,
 "nbformat_minor": 0
}
