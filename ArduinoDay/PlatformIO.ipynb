{
 "cells": [
  {
   "cell_type": "code",
   "execution_count": 35,
   "metadata": {
    "collapsed": false,
    "slideshow": {
     "slide_type": "skip"
    }
   },
   "outputs": [
    {
     "data": {
      "text/html": [
       "<link rel=\"stylesheet\" href=\"font-awesome/css/font-awesome.min.css\">"
      ],
      "text/plain": [
       "<IPython.core.display.HTML object>"
      ]
     },
     "metadata": {},
     "output_type": "display_data"
    }
   ],
   "source": [
    "!qr --factory=svg \"bit.ly/arduinoday_pio\" > img/intro_qr.svg\n",
    "from IPython.display import HTML, display\n",
    "display(HTML('<link rel=\"stylesheet\" href=\"font-awesome/css/font-awesome.min.css\">'))"
   ]
  },
  {
   "cell_type": "markdown",
   "metadata": {
    "slideshow": {
     "slide_type": "slide"
    }
   },
   "source": [
    "Antes de emepzar! Podés eguir la charla desde tu Netbook, Tablet o Teléfono\n",
    "<img src=\"img/intro_qr.svg\" width=\"80%\" height=\"80%\">\n"
   ]
  },
  {
   "cell_type": "markdown",
   "metadata": {
    "slideshow": {
     "slide_type": "slide"
    }
   },
   "source": [
    "# PlatformIO\n",
    "## Arduino Day\n",
    "### Nahuel Defossé\n",
    "<p style=\"font-size: 2em; text-align: center;\">\n",
    "<a href=\"https://github.com/D3f0\"><i class=\"fa fa-github\"></i></a>\n",
    "<a href=\"https://twitter.com/D3f0\"><i class=\"fa fa-twitter\"></i></a>\n",
    "</p>\n",
    "\n"
   ]
  },
  {
   "cell_type": "markdown",
   "metadata": {
    "slideshow": {
     "slide_type": "slide"
    }
   },
   "source": [
    "# Sobre mi"
   ]
  },
  {
   "cell_type": "markdown",
   "metadata": {
    "slideshow": {
     "slide_type": "fragment"
    }
   },
   "source": [
    "* Terminé la escuela técninca en el año 2001\n",
    "    - Programabamos PICs 16F84A en Assembler com MPLAB"
   ]
  },
  {
   "cell_type": "markdown",
   "metadata": {
    "slideshow": {
     "slide_type": "fragment"
    }
   },
   "source": [
    "* Estudié Licenciatura en Informática en la UNPSJB\n",
    "    * Me involucré en un proyecto de Investigación dónde usabamos PICs\n",
    "        * **No los prgramaba!**"
   ]
  },
  {
   "cell_type": "markdown",
   "metadata": {
    "slideshow": {
     "slide_type": "slide"
    }
   },
   "source": [
    "# Arduino\n",
    "\n",
    "## ¿A que le llamamos Arduino?\n"
   ]
  },
  {
   "cell_type": "markdown",
   "metadata": {
    "slideshow": {
     "slide_type": "fragment"
    }
   },
   "source": [
    "### Hardware\n",
    "* Esquemáticos libres\n",
    "* Pines para interconexión con shields\n",
    "* Porgramación sin programador"
   ]
  },
  {
   "cell_type": "markdown",
   "metadata": {
    "slideshow": {
     "slide_type": "fragment"
    }
   },
   "source": [
    "### Software\n",
    "* IDE\n",
    "* Lenguaje C++ (camuflado)\n",
    "* Wiring (pinMode, digitalRead, digitalWrite)\n",
    "* Librerías"
   ]
  },
  {
   "cell_type": "markdown",
   "metadata": {
    "slideshow": {
     "slide_type": "slide"
    }
   },
   "source": [
    "# Arduino Uno, Mega, Due, etc.\n",
    "<img src=\"img/arduino-microcontrollers.jpg\">"
   ]
  },
  {
   "cell_type": "markdown",
   "metadata": {
    "slideshow": {
     "slide_type": "subslide"
    }
   },
   "source": [
    "# Teensy (Cortex M3)\n",
    "<img src=\"img/teensy32.jpg\">"
   ]
  },
  {
   "cell_type": "markdown",
   "metadata": {
    "slideshow": {
     "slide_type": "subslide"
    }
   },
   "source": [
    "# Intel Galileo/Edison\n",
    "<img src=\"img/galileo.jpg\">"
   ]
  },
  {
   "cell_type": "markdown",
   "metadata": {},
   "source": [
    "# Pignuino (basada en PIC)\n",
    "<img src=\"img/pinguino.jpg\">"
   ]
  },
  {
   "cell_type": "markdown",
   "metadata": {
    "slideshow": {
     "slide_type": "subslide"
    }
   },
   "source": [
    "# NodeMCU\n",
    "<img src=\"img/nodemcu.jpg\">"
   ]
  },
  {
   "cell_type": "markdown",
   "metadata": {
    "slideshow": {
     "slide_type": "slide"
    }
   },
   "source": [
    "# ¿Cómo es el software?\n",
    "\n",
    "<img src=\"img/estructura.svg\">"
   ]
  },
  {
   "cell_type": "code",
   "execution_count": 34,
   "metadata": {
    "collapsed": false,
    "slideshow": {
     "slide_type": "skip"
    }
   },
   "outputs": [
    {
     "name": "stdout",
     "output_type": "stream",
     "text": [
      "[NbConvertApp] Converting notebook PlatformIO.ipynb to slides\n",
      "[NbConvertApp] Writing 197263 bytes to PlatformIO.slides.html\n"
     ]
    }
   ],
   "source": [
    "!jupyter-nbconvert --to slides PlatformIO.ipynb && open PlatformIO.slides.html"
   ]
  },
  {
   "cell_type": "code",
   "execution_count": 30,
   "metadata": {
    "collapsed": true,
    "slideshow": {
     "slide_type": "skip"
    }
   },
   "outputs": [],
   "source": [
    "!open ."
   ]
  },
  {
   "cell_type": "code",
   "execution_count": 19,
   "metadata": {
    "collapsed": false,
    "slideshow": {
     "slide_type": "skip"
    }
   },
   "outputs": [],
   "source": [
    "%%bash\n",
    "test -e reveal.js || {\n",
    "    wget https://github.com/hakimel/reveal.js/archive/3.2.0.zip -O /tmp/reveal.zip\n",
    "    unzip /tmp/reveal.zip\n",
    "    mv reveal.js-* reveal.js\n",
    "    rm /tmp/reveal.js\n",
    "}\n"
   ]
  },
  {
   "cell_type": "code",
   "execution_count": null,
   "metadata": {
    "collapsed": true,
    "slideshow": {
     "slide_type": "skip"
    }
   },
   "outputs": [],
   "source": []
  }
 ],
 "metadata": {
  "celltoolbar": "Slideshow",
  "kernelspec": {
   "display_name": "Python 2",
   "language": "python",
   "name": "python2"
  },
  "language_info": {
   "codemirror_mode": {
    "name": "ipython",
    "version": 2
   },
   "file_extension": ".py",
   "mimetype": "text/x-python",
   "name": "python",
   "nbconvert_exporter": "python",
   "pygments_lexer": "ipython2",
   "version": "2.7.11"
  }
 },
 "nbformat": 4,
 "nbformat_minor": 0
}
